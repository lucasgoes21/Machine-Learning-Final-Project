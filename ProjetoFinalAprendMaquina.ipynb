{
  "cells": [
    {
      "cell_type": "markdown",
      "metadata": {
        "id": "view-in-github",
        "colab_type": "text"
      },
      "source": [
        "<a href=\"https://colab.research.google.com/github/lucasgoes21/Machine-Learning-Final-Project/blob/main/ProjetoFinalAprendMaquina.ipynb\" target=\"_parent\"><img src=\"https://colab.research.google.com/assets/colab-badge.svg\" alt=\"Open In Colab\"/></a>"
      ]
    },
    {
      "cell_type": "markdown",
      "metadata": {
        "id": "peg7KKnknOTS"
      },
      "source": [
        "## **O uso de aprendizado de máquina para detecção de spam em emails**"
      ]
    },
    {
      "cell_type": "markdown",
      "metadata": {
        "id": "0x0aCAJ5ntSi"
      },
      "source": [
        "Grupo 09: Amanda Vieira Reis e Lucas Mateus Gonçalves de Góes"
      ]
    },
    {
      "cell_type": "markdown",
      "metadata": {
        "id": "z01ghBMvoK5p"
      },
      "source": [
        "# Importação das bibliotecas"
      ]
    },
    {
      "cell_type": "code",
      "execution_count": null,
      "metadata": {
        "id": "30I5JDHvlkxJ"
      },
      "outputs": [],
      "source": [
        "# Data Analysis\n",
        "\n",
        "import pandas as pd\n",
        "import numpy as np\n",
        "import matplotlib.pyplot as plt\n",
        "import seaborn as sns\n",
        "\n",
        "# PLN\n",
        "\n",
        "import spacy\n",
        "try:\n",
        "  nlp = spacy.load(\"en_core_web_sm\")\n",
        "except:\n",
        "  !python -m spacy download en_core_web_sm\n",
        "  nlp = spacy.load(\"en_core_web_sm\")\n",
        "\n",
        "import nltk\n",
        "from nltk.corpus import stopwords\n",
        "\n",
        "# Avaliação\n",
        "\n",
        "from sklearn.metrics import accuracy_score, precision_score, recall_score, f1_score\n",
        "\n",
        "# Tokenização\n",
        "\n",
        "from sklearn.feature_extraction.text import TfidfVectorizer,CountVectorizer\n",
        "\n",
        "# Modelagem\n",
        "\n",
        "from sklearn.pipeline import Pipeline\n",
        "from sklearn.model_selection import train_test_split\n",
        "from sklearn.metrics import confusion_matrix\n",
        "from sklearn.model_selection import GridSearchCV\n",
        "\n",
        "from sklearn.svm import SVC\n",
        "\n",
        "from sklearn.naive_bayes import MultinomialNB\n",
        "from sklearn.model_selection import cross_val_score\n",
        "\n",
        "from sklearn.neighbors import KNeighborsClassifier"
      ]
    },
    {
      "cell_type": "markdown",
      "metadata": {
        "id": "h1_WFPABoX7h"
      },
      "source": [
        "# Carregando o Dataset"
      ]
    },
    {
      "cell_type": "code",
      "execution_count": null,
      "metadata": {
        "colab": {
          "base_uri": "https://localhost:8080/",
          "height": 206
        },
        "id": "FlNbBAxCoh9X",
        "outputId": "d50fe358-4905-4881-f05c-2ce51faaea61"
      },
      "outputs": [
        {
          "output_type": "execute_result",
          "data": {
            "text/plain": [
              "                                             subject  \\\n",
              "0            job posting - apple-iss research center   \n",
              "1                                                NaN   \n",
              "2  query : letter frequencies for text identifica...   \n",
              "3                                               risk   \n",
              "4                           request book information   \n",
              "\n",
              "                                             message  label  \n",
              "0  content - length : 3386 apple-iss research cen...      0  \n",
              "1  lang classification grimes , joseph e . and ba...      0  \n",
              "2  i am posting this inquiry for sergei atamas ( ...      0  \n",
              "3  a colleague and i are researching the differin...      0  \n",
              "4  earlier this morning i was on the phone with a...      0  "
            ],
            "text/html": [
              "\n",
              "  <div id=\"df-845d64a1-930c-4fbc-86c6-3f63b7a8aabf\" class=\"colab-df-container\">\n",
              "    <div>\n",
              "<style scoped>\n",
              "    .dataframe tbody tr th:only-of-type {\n",
              "        vertical-align: middle;\n",
              "    }\n",
              "\n",
              "    .dataframe tbody tr th {\n",
              "        vertical-align: top;\n",
              "    }\n",
              "\n",
              "    .dataframe thead th {\n",
              "        text-align: right;\n",
              "    }\n",
              "</style>\n",
              "<table border=\"1\" class=\"dataframe\">\n",
              "  <thead>\n",
              "    <tr style=\"text-align: right;\">\n",
              "      <th></th>\n",
              "      <th>subject</th>\n",
              "      <th>message</th>\n",
              "      <th>label</th>\n",
              "    </tr>\n",
              "  </thead>\n",
              "  <tbody>\n",
              "    <tr>\n",
              "      <th>0</th>\n",
              "      <td>job posting - apple-iss research center</td>\n",
              "      <td>content - length : 3386 apple-iss research cen...</td>\n",
              "      <td>0</td>\n",
              "    </tr>\n",
              "    <tr>\n",
              "      <th>1</th>\n",
              "      <td>NaN</td>\n",
              "      <td>lang classification grimes , joseph e . and ba...</td>\n",
              "      <td>0</td>\n",
              "    </tr>\n",
              "    <tr>\n",
              "      <th>2</th>\n",
              "      <td>query : letter frequencies for text identifica...</td>\n",
              "      <td>i am posting this inquiry for sergei atamas ( ...</td>\n",
              "      <td>0</td>\n",
              "    </tr>\n",
              "    <tr>\n",
              "      <th>3</th>\n",
              "      <td>risk</td>\n",
              "      <td>a colleague and i are researching the differin...</td>\n",
              "      <td>0</td>\n",
              "    </tr>\n",
              "    <tr>\n",
              "      <th>4</th>\n",
              "      <td>request book information</td>\n",
              "      <td>earlier this morning i was on the phone with a...</td>\n",
              "      <td>0</td>\n",
              "    </tr>\n",
              "  </tbody>\n",
              "</table>\n",
              "</div>\n",
              "    <div class=\"colab-df-buttons\">\n",
              "\n",
              "  <div class=\"colab-df-container\">\n",
              "    <button class=\"colab-df-convert\" onclick=\"convertToInteractive('df-845d64a1-930c-4fbc-86c6-3f63b7a8aabf')\"\n",
              "            title=\"Convert this dataframe to an interactive table.\"\n",
              "            style=\"display:none;\">\n",
              "\n",
              "  <svg xmlns=\"http://www.w3.org/2000/svg\" height=\"24px\" viewBox=\"0 -960 960 960\">\n",
              "    <path d=\"M120-120v-720h720v720H120Zm60-500h600v-160H180v160Zm220 220h160v-160H400v160Zm0 220h160v-160H400v160ZM180-400h160v-160H180v160Zm440 0h160v-160H620v160ZM180-180h160v-160H180v160Zm440 0h160v-160H620v160Z\"/>\n",
              "  </svg>\n",
              "    </button>\n",
              "\n",
              "  <style>\n",
              "    .colab-df-container {\n",
              "      display:flex;\n",
              "      gap: 12px;\n",
              "    }\n",
              "\n",
              "    .colab-df-convert {\n",
              "      background-color: #E8F0FE;\n",
              "      border: none;\n",
              "      border-radius: 50%;\n",
              "      cursor: pointer;\n",
              "      display: none;\n",
              "      fill: #1967D2;\n",
              "      height: 32px;\n",
              "      padding: 0 0 0 0;\n",
              "      width: 32px;\n",
              "    }\n",
              "\n",
              "    .colab-df-convert:hover {\n",
              "      background-color: #E2EBFA;\n",
              "      box-shadow: 0px 1px 2px rgba(60, 64, 67, 0.3), 0px 1px 3px 1px rgba(60, 64, 67, 0.15);\n",
              "      fill: #174EA6;\n",
              "    }\n",
              "\n",
              "    .colab-df-buttons div {\n",
              "      margin-bottom: 4px;\n",
              "    }\n",
              "\n",
              "    [theme=dark] .colab-df-convert {\n",
              "      background-color: #3B4455;\n",
              "      fill: #D2E3FC;\n",
              "    }\n",
              "\n",
              "    [theme=dark] .colab-df-convert:hover {\n",
              "      background-color: #434B5C;\n",
              "      box-shadow: 0px 1px 3px 1px rgba(0, 0, 0, 0.15);\n",
              "      filter: drop-shadow(0px 1px 2px rgba(0, 0, 0, 0.3));\n",
              "      fill: #FFFFFF;\n",
              "    }\n",
              "  </style>\n",
              "\n",
              "    <script>\n",
              "      const buttonEl =\n",
              "        document.querySelector('#df-845d64a1-930c-4fbc-86c6-3f63b7a8aabf button.colab-df-convert');\n",
              "      buttonEl.style.display =\n",
              "        google.colab.kernel.accessAllowed ? 'block' : 'none';\n",
              "\n",
              "      async function convertToInteractive(key) {\n",
              "        const element = document.querySelector('#df-845d64a1-930c-4fbc-86c6-3f63b7a8aabf');\n",
              "        const dataTable =\n",
              "          await google.colab.kernel.invokeFunction('convertToInteractive',\n",
              "                                                    [key], {});\n",
              "        if (!dataTable) return;\n",
              "\n",
              "        const docLinkHtml = 'Like what you see? Visit the ' +\n",
              "          '<a target=\"_blank\" href=https://colab.research.google.com/notebooks/data_table.ipynb>data table notebook</a>'\n",
              "          + ' to learn more about interactive tables.';\n",
              "        element.innerHTML = '';\n",
              "        dataTable['output_type'] = 'display_data';\n",
              "        await google.colab.output.renderOutput(dataTable, element);\n",
              "        const docLink = document.createElement('div');\n",
              "        docLink.innerHTML = docLinkHtml;\n",
              "        element.appendChild(docLink);\n",
              "      }\n",
              "    </script>\n",
              "  </div>\n",
              "\n",
              "\n",
              "<div id=\"df-b381a02d-8121-4a3e-837b-ecda839a35f0\">\n",
              "  <button class=\"colab-df-quickchart\" onclick=\"quickchart('df-b381a02d-8121-4a3e-837b-ecda839a35f0')\"\n",
              "            title=\"Suggest charts\"\n",
              "            style=\"display:none;\">\n",
              "\n",
              "<svg xmlns=\"http://www.w3.org/2000/svg\" height=\"24px\"viewBox=\"0 0 24 24\"\n",
              "     width=\"24px\">\n",
              "    <g>\n",
              "        <path d=\"M19 3H5c-1.1 0-2 .9-2 2v14c0 1.1.9 2 2 2h14c1.1 0 2-.9 2-2V5c0-1.1-.9-2-2-2zM9 17H7v-7h2v7zm4 0h-2V7h2v10zm4 0h-2v-4h2v4z\"/>\n",
              "    </g>\n",
              "</svg>\n",
              "  </button>\n",
              "\n",
              "<style>\n",
              "  .colab-df-quickchart {\n",
              "      --bg-color: #E8F0FE;\n",
              "      --fill-color: #1967D2;\n",
              "      --hover-bg-color: #E2EBFA;\n",
              "      --hover-fill-color: #174EA6;\n",
              "      --disabled-fill-color: #AAA;\n",
              "      --disabled-bg-color: #DDD;\n",
              "  }\n",
              "\n",
              "  [theme=dark] .colab-df-quickchart {\n",
              "      --bg-color: #3B4455;\n",
              "      --fill-color: #D2E3FC;\n",
              "      --hover-bg-color: #434B5C;\n",
              "      --hover-fill-color: #FFFFFF;\n",
              "      --disabled-bg-color: #3B4455;\n",
              "      --disabled-fill-color: #666;\n",
              "  }\n",
              "\n",
              "  .colab-df-quickchart {\n",
              "    background-color: var(--bg-color);\n",
              "    border: none;\n",
              "    border-radius: 50%;\n",
              "    cursor: pointer;\n",
              "    display: none;\n",
              "    fill: var(--fill-color);\n",
              "    height: 32px;\n",
              "    padding: 0;\n",
              "    width: 32px;\n",
              "  }\n",
              "\n",
              "  .colab-df-quickchart:hover {\n",
              "    background-color: var(--hover-bg-color);\n",
              "    box-shadow: 0 1px 2px rgba(60, 64, 67, 0.3), 0 1px 3px 1px rgba(60, 64, 67, 0.15);\n",
              "    fill: var(--button-hover-fill-color);\n",
              "  }\n",
              "\n",
              "  .colab-df-quickchart-complete:disabled,\n",
              "  .colab-df-quickchart-complete:disabled:hover {\n",
              "    background-color: var(--disabled-bg-color);\n",
              "    fill: var(--disabled-fill-color);\n",
              "    box-shadow: none;\n",
              "  }\n",
              "\n",
              "  .colab-df-spinner {\n",
              "    border: 2px solid var(--fill-color);\n",
              "    border-color: transparent;\n",
              "    border-bottom-color: var(--fill-color);\n",
              "    animation:\n",
              "      spin 1s steps(1) infinite;\n",
              "  }\n",
              "\n",
              "  @keyframes spin {\n",
              "    0% {\n",
              "      border-color: transparent;\n",
              "      border-bottom-color: var(--fill-color);\n",
              "      border-left-color: var(--fill-color);\n",
              "    }\n",
              "    20% {\n",
              "      border-color: transparent;\n",
              "      border-left-color: var(--fill-color);\n",
              "      border-top-color: var(--fill-color);\n",
              "    }\n",
              "    30% {\n",
              "      border-color: transparent;\n",
              "      border-left-color: var(--fill-color);\n",
              "      border-top-color: var(--fill-color);\n",
              "      border-right-color: var(--fill-color);\n",
              "    }\n",
              "    40% {\n",
              "      border-color: transparent;\n",
              "      border-right-color: var(--fill-color);\n",
              "      border-top-color: var(--fill-color);\n",
              "    }\n",
              "    60% {\n",
              "      border-color: transparent;\n",
              "      border-right-color: var(--fill-color);\n",
              "    }\n",
              "    80% {\n",
              "      border-color: transparent;\n",
              "      border-right-color: var(--fill-color);\n",
              "      border-bottom-color: var(--fill-color);\n",
              "    }\n",
              "    90% {\n",
              "      border-color: transparent;\n",
              "      border-bottom-color: var(--fill-color);\n",
              "    }\n",
              "  }\n",
              "</style>\n",
              "\n",
              "  <script>\n",
              "    async function quickchart(key) {\n",
              "      const quickchartButtonEl =\n",
              "        document.querySelector('#' + key + ' button');\n",
              "      quickchartButtonEl.disabled = true;  // To prevent multiple clicks.\n",
              "      quickchartButtonEl.classList.add('colab-df-spinner');\n",
              "      try {\n",
              "        const charts = await google.colab.kernel.invokeFunction(\n",
              "            'suggestCharts', [key], {});\n",
              "      } catch (error) {\n",
              "        console.error('Error during call to suggestCharts:', error);\n",
              "      }\n",
              "      quickchartButtonEl.classList.remove('colab-df-spinner');\n",
              "      quickchartButtonEl.classList.add('colab-df-quickchart-complete');\n",
              "    }\n",
              "    (() => {\n",
              "      let quickchartButtonEl =\n",
              "        document.querySelector('#df-b381a02d-8121-4a3e-837b-ecda839a35f0 button');\n",
              "      quickchartButtonEl.style.display =\n",
              "        google.colab.kernel.accessAllowed ? 'block' : 'none';\n",
              "    })();\n",
              "  </script>\n",
              "</div>\n",
              "    </div>\n",
              "  </div>\n"
            ],
            "application/vnd.google.colaboratory.intrinsic+json": {
              "type": "dataframe",
              "variable_name": "data",
              "summary": "{\n  \"name\": \"data\",\n  \"rows\": 2893,\n  \"fields\": [\n    {\n      \"column\": \"subject\",\n      \"properties\": {\n        \"dtype\": \"string\",\n        \"num_unique_values\": 2613,\n        \"samples\": [\n          \"donnellan complete citation\",\n          \"snow 3 1 / 2\",\n          \"sorry for the delay - fqtfsqvb\"\n        ],\n        \"semantic_type\": \"\",\n        \"description\": \"\"\n      }\n    },\n    {\n      \"column\": \"message\",\n      \"properties\": {\n        \"dtype\": \"string\",\n        \"num_unique_values\": 2859,\n        \"samples\": [\n          \"* * * * * * * * * * * * * * * * * * * * * * call for papers & exhibits * * * * * * * * * * * * * * * * * * * * * * * * * * = = = = = = = = = = = = = = = = appel aux communications & expositions = = = = = = = = = = = = = = = = = = = = = international conference on natural language processing and industrial applications nlp + ia 98 > > > special accent on computer assisted language learning < < < conference internationale sur le traitement automatique des langues et ses applications industrielles tal + ai 98 > > > attention speciale portee a l ' enseignement de la langue < < < august / aout 18 - 21 , 1998 moncton , new - brunswick , canada come to canada this summer . . . iwnlg august 5 - 7 in niagara - on-the - lake coling - acl & workshops august 10-16 in montreal nlp + ia / call august 18-21 in moncton topics of interest : the nlp study group ( gretal ) at l ' universite de moncton is organizing its second international conference on nlp and industrial applications . this year a special attention is given to computer assisted language learning & teaching . papers are invited on all aspects of natural language processing , including , but not limited to , * computer assisted language learning & teaching , * natural language understanding and generation of textual , spoken and hand-written language , * natural language interfaces to databases , expert systems , or industrial applications * machine translation , computer aided translation , translation aids , * syntax , semantics , pragmatics , lexicon , morphology , * dictionaries , corpora , & other language resources * multimodality * multilinguality * nlp industrial applications * papers of every kind that can help bridge the gap between the theory and practice of nlp in general and language learning in particular . language : authors are invited to submit preliminary versions of their papers not exceeding 400 words ( exclusive of references ) either in english or in french , the two official languages of the conference . proceedings would be published in the language of the submitted texts . final versions would be around 7 - 8 pages . submission : 1 ) the first page should be an identification page containing the title , the authors ' names , affiliations , addresses , a five ( 5 ) keyword list specifying the subject area , a five ( 5 ) line summary , and the name and address of the contact person . title / titre : authors info / auteurs et infos : keywords / mots clefs : summary / resume : contact person / personne contact : 2 ) abstracts should not exceed 400 words in length excluding references ( 12 pt , times roman , 1 inch margins ( 2 , 5 cm ) all around ; if using a4 please keep text within 19cm x 25 , 5 cm ) . 3 ) the identification page and the abstract should be submitted in 4 hard copies ( 12 pt , times roman , 1 inch margins ( 2 , 5 cm ) all around ; if using a4 please keep text within 16 , 5 cm x 23 cm ) to : nlp + ia 98 / tal + ai 98 pr . chadia moghrabi geta , clips , imag 385 rue de la bibliotheque bp 53 x 38041 grenoble cedex 9 france phone : + 33 4 76 51 4369 fax : + 33 4 76 51 4405 e - mail : nlp + ia-98 @ imag . fr 4 ) the identification page should also be e-mailed in plain text . refereeing : all submissions shall be refereed by three members of the program committee . international program committee : anne de roeck ( essex , uk ) arnold smith ( nrc , canada ) chadia moghrabi ( moncton , canada ) christian boitet ( geta , grenoble , france ) chrysanne dimarco ( logos , waterloo , canada ) eric wehrli ( geneva , switzerland ) eva hajicova ( charles u . , prague ) genvieve caelen - haumont ( geod , grenoble , france ) graeme hirst ( toronto , canada ) harry bunt ( tilburg , netherlands ) henry hamburger ( george mason , usa ) howard hamilton ( regina , canada ) jean - pierre chanod ( xerox , france ) johanna moore ( pennsylvania , usa ) john hutchins ( east anglia , uk ) john tait ( sunderland , uk ) junichi tsujii ( umist & tokyo , japan ) kathleen mccoy ( delaware , usa ) margaret king ( issco , switzerland ) manfred stede ( tu - berlin , germany ) marcel cori ( paris-7 , france ) mark seligman ( geta-clips & red pepper , usa ) michael levison ( queens , canada ) nocoletta calzolari ( pisa , italy ) pierre isabelle ( rali , montreal , canada ) pierrette bouillon ( geneva , switzerland ) paul tarau ( moncton , canada ) remi chadel ( inxight , xerox , france ) roberto basili ( roma , italy ) ruddy lelouche ( laval , canada ) susan armstrong ( issco , geneva , switzerland ) thierry chanier ( franche - comte , france ) thierry van steenberghe ( louvain - la - neuve , belgium ) veronica dahl ( simon fraser , canada ) yael ravin ( ibm , usa ) yorick wilks ( sheffield , uk ) schedule : submissions are due on april 28th 1998 . notification of receipt will be mailed to the contact person soon after receipt . authors will be notified of acceptance by 15 june 1998 . camera - ready copies of final full papers must be received by the 1st of august 1998 along with registration fees . participants are also requested to indicate their intention to participate in the conference as soon as possible to the same e-mail address with the single word intention in the subject line . exhibits : anyone wishing to arrange an exhibit or present a demonstration should send a brief electronic description along with a specification of physical requirements ( table size , power , telephone connections , number of chairs , etc . ) to the same address with the single word exhibit in the subject line . other activities : accompanying persons can enjoy the lovely outdoor living in new - brunswick and visit the highest tides in the world . moncton is only 20km away from the sandy beaches of shediac , la capitale mondiale du homard . conference organization : the conference is organized by gretal , groupe d ' etude sur le traitement automatique des langues at the universite ' de moncton in cooperation with geta-clips at l ' universite ' joseph fourier in grenoble . the members of the organizing committee are : chadia moghrabi , professor of computer science , conference chair jalal almhana , director & professor of computer science julien chiasson , professor of computer science sadek eid , professor of industrial engineering , director manufacturing technology centre boubaker meddeb - hamrouni , researcher geta & winsoft paul tarau , professor of computer science\\n\",\n          \"i was curious if anyone was actually interested in verifying whether armey 's slip was actually a slip . but since someone has asked what the time delay between the utterance of \\\" barney fag \\\" and his correction : having heard a replay , i would say the delay was less than a second . imo , the utterance was definitely a slip and not a slur . other factors would support this conclusion , apart from the delay , phonology , etc . , primary among them the fact that armey is n't stupid . he 's a ph . d . in economics , and has the political savvy to get himself elected majority whip . only the politically ( or linguistically ) tendentious would be likely to assert that someone of his political skills would think it to his advantage to make such an utterance . what a shame it was to see members of this list anxious to use their professional skills ( or to abuse them ) in order to make a political point . two weeks into this discussion and only now does anyone actually inquire into the data . it makes one wonder how much linguistic research is driven by other agendas , and what the quality of that research is . . . dave wharton\\n\",\n          \"* * * final call for papers and referees * * * = = = = = = = = = = = = = = = = = = = = = = = = = = = = = = = = = = = = = = = = = = 1999 acm symposium on applied computing ( sac ' 99 ) special track on coordination models , languages and applications february 28 - march 2 , 1999 the menger , san antonio , texas , u . s . a . ( http : / / www . cs . ucy . ac . cy / sac99 . html ) sac ' 99 : ~ ~ ~ ~ ~ ~ ~ ~ over the past thirteen years , the acm symposium on applied computing ( sac ) has become a primary forum for applied computer scientists and application developers from around the world to interact and present their work . sac ' 99 is sponsored by the acm special interest groups sigada , sigapp , sigbio , and sigcue . authors are invited to contribute original papers in all areas of experimental computing and application development for the technical sessions . there will be a number of special tracks on such issues as programming languages , parallel and distributed computing , mobile and scientific computing , internet and the www , etc . coordination models , languages and applications track : ~ ~ ~ ~ ~ ~ ~ ~ ~ ~ ~ ~ ~ ~ ~ ~ ~ ~ ~ ~ ~ ~ ~ ~ ~ ~ ~ ~ ~ ~ ~ ~ ~ ~ ~ ~ ~ ~ ~ ~ ~ ~ ~ ~ ~ ~ ~ ~ ~ ~ ~ ~ ~ ~ a special track on coordination models , languages and applications will be held at sac ' 99 . the term \\\" coordination \\\" here is used in a rather broad sense covering traditional models and languages ( e . g . ones based on the shared dataspace and cham metaphors ) but also other related formalisms such as configuration and architectural description frameworks , systems modeling abstractions and languages , programming skeletons , etc . this track on coordination is held for the second time as part of acm sac 's events . the cfp for the acm sac ' 98 track attracted 33 submissions from 18 countries ; 8 of those submissions were accepted as regular papers and 4 more as short papers . major topics of interest include but are not limited to the following : * novel models , languages , programming and implementation techniques . * relationship with other computational models such as object oriented , declarative ( functional , logic , constraint ) programming or extensions of them with coordination capabilities . * applications ( especially where the industry is involved ) . * theoretical aspects ( semantics , reasoning , verification ) . * software architectures and software engineering techniques . * middleware platforms ( e . g . corba ) . * all aspects related to the modeling of information systems ( groupware , internet and the web , workflow management , cscw ) . track program chair : ~ ~ ~ ~ ~ ~ ~ ~ ~ ~ ~ ~ ~ ~ ~ ~ ~ ~ ~ ~ george a . papadopoulos department of computer science university of cyprus 75 kallipoleos str . , p . o . b . 537 cy-1678 , nicosia , cyprus e - mail : george @ cs . ucy . ac . cy tel : + 357 2 338705 / 06 , fax : + 357 2 339062 guidelines for submission : ~ ~ ~ ~ ~ ~ ~ ~ ~ ~ ~ ~ ~ ~ ~ ~ ~ ~ ~ ~ ~ ~ ~ ~ ~ ~ original papers from the above-mentioned or other related areas will be considered . this includes three categories of submissions : 1 ) original and unpublished research ; 2 ) reports of innovative computing applications in the arts , sciences , engineering , business , government , education and industry ; and 3 ) reports of successful technology transfer to new problem domains . each submitted paper will be fully refereed and undergo a blind review process by at least three referees . the accepted papers in all categories will be published in the acm sac ' 99 proceedings . there will also be a special issue of the journal of programming languages , chapman & hall ( http : / / www . chapmanhall . com / jp / default . html ) with expanded versions of selected papers from those that will be accepted for this special track as regular papers . submission guidelines must be strictly followed : * submit six ( 6 ) copies of original manuscripts to the sac ' 99 coordination models , languages and applications track program chair ( address shown above ) . alternatively , submit your paper electronically in uuencoded compressed postscript format ; this is strongly encouraged . fax submissions will not be accepted . * the author ( s ) name ( s ) and address ( es ) must not appear in the body of the paper , and self-reference should be in the third person . this is to facilitate blind review . * the body of the paper should not exceed 5 , 000 words ( approximately 15 pages , double-spaced ) . * a separate cover sheet ( in the case of electronic submission this should be sent separately from the main paper ) should show the title of the paper , the author ( s ) name ( s ) and affiliation ( s ) , and the address ( including e-mail , telephone , and fax ) to which correspondence should be sent . * all submissions must be received by august 17 , 1998 . anyone wishing to review papers for this special track should contact the track program chair at the address shown above . important dates : ~ ~ ~ ~ ~ ~ ~ ~ ~ ~ ~ ~ ~ ~ ~ ~ * august 17 , 1998 : paper submission . * october 15 , 1998 : author notification . * december 1 , 1998 : camera - ready copy .\\n\"\n        ],\n        \"semantic_type\": \"\",\n        \"description\": \"\"\n      }\n    },\n    {\n      \"column\": \"label\",\n      \"properties\": {\n        \"dtype\": \"number\",\n        \"std\": 0,\n        \"min\": 0,\n        \"max\": 1,\n        \"num_unique_values\": 2,\n        \"samples\": [\n          1,\n          0\n        ],\n        \"semantic_type\": \"\",\n        \"description\": \"\"\n      }\n    }\n  ]\n}"
            }
          },
          "metadata": {},
          "execution_count": 105
        }
      ],
      "source": [
        "data = pd.read_csv('/content/Data_set/messages.csv')\n",
        "\n",
        "data.head()"
      ]
    },
    {
      "cell_type": "code",
      "source": [
        "from google.colab import drive\n",
        "drive.mount('/content/drive')"
      ],
      "metadata": {
        "colab": {
          "base_uri": "https://localhost:8080/"
        },
        "id": "bydSMTPIps5i",
        "outputId": "9ec7c4ac-6f82-4d63-f00b-accbd99f41ad"
      },
      "execution_count": null,
      "outputs": [
        {
          "output_type": "stream",
          "name": "stdout",
          "text": [
            "Mounted at /content/drive\n"
          ]
        }
      ]
    },
    {
      "cell_type": "code",
      "execution_count": null,
      "metadata": {
        "id": "q3N7Zv84o4Lm",
        "colab": {
          "base_uri": "https://localhost:8080/"
        },
        "outputId": "7c6e24b7-faeb-44ba-b60b-1fb411a07ea7"
      },
      "outputs": [
        {
          "output_type": "stream",
          "name": "stdout",
          "text": [
            "<class 'pandas.core.frame.DataFrame'>\n",
            "RangeIndex: 2893 entries, 0 to 2892\n",
            "Data columns (total 3 columns):\n",
            " #   Column   Non-Null Count  Dtype \n",
            "---  ------   --------------  ----- \n",
            " 0   subject  2831 non-null   object\n",
            " 1   message  2893 non-null   object\n",
            " 2   label    2893 non-null   int64 \n",
            "dtypes: int64(1), object(2)\n",
            "memory usage: 67.9+ KB\n"
          ]
        }
      ],
      "source": [
        "data.info()"
      ]
    },
    {
      "cell_type": "code",
      "execution_count": null,
      "metadata": {
        "id": "zQB2msLPo6BB",
        "colab": {
          "base_uri": "https://localhost:8080/"
        },
        "outputId": "c80daa9c-7edb-4c90-8abe-a2f24865cfdc"
      },
      "outputs": [
        {
          "output_type": "execute_result",
          "data": {
            "text/plain": [
              "subject    62\n",
              "message     0\n",
              "label       0\n",
              "dtype: int64"
            ]
          },
          "metadata": {},
          "execution_count": 107
        }
      ],
      "source": [
        "data.isnull().sum()"
      ]
    },
    {
      "cell_type": "code",
      "execution_count": null,
      "metadata": {
        "id": "ulwNYrdro_-F",
        "colab": {
          "base_uri": "https://localhost:8080/"
        },
        "outputId": "904293f1-60d7-49e8-c9fd-5474aef6b10f"
      },
      "outputs": [
        {
          "output_type": "execute_result",
          "data": {
            "text/plain": [
              "label\n",
              "0    2412\n",
              "1     481\n",
              "Name: count, dtype: int64"
            ]
          },
          "metadata": {},
          "execution_count": 108
        }
      ],
      "source": [
        "data['label'].value_counts()"
      ]
    },
    {
      "cell_type": "code",
      "execution_count": null,
      "metadata": {
        "id": "VAoGvMcVpH1h",
        "colab": {
          "base_uri": "https://localhost:8080/",
          "height": 574
        },
        "outputId": "d390bb88-5954-4239-fcf6-b6dc5cc7ca40"
      },
      "outputs": [
        {
          "output_type": "stream",
          "name": "stderr",
          "text": [
            "<ipython-input-109-1cac5b267cf8>:1: FutureWarning: \n",
            "\n",
            "Passing `palette` without assigning `hue` is deprecated and will be removed in v0.14.0. Assign the `x` variable to `hue` and set `legend=False` for the same effect.\n",
            "\n",
            "  sns.countplot(x='label', data=data, palette=['#00004D',\"#008631\"])\n"
          ]
        },
        {
          "output_type": "execute_result",
          "data": {
            "text/plain": [
              "<Axes: xlabel='label', ylabel='count'>"
            ]
          },
          "metadata": {},
          "execution_count": 109
        },
        {
          "output_type": "display_data",
          "data": {
            "text/plain": [
              "<Figure size 640x480 with 1 Axes>"
            ],
            "image/png": "[encoded data removed]"
          },
          "metadata": {}
        }
      ],
      "source": [
        "sns.countplot(x='label', data=data, palette=['#00004D',\"#008631\"])"
      ]
    },
    {
      "cell_type": "markdown",
      "metadata": {
        "id": "DGwHl924p5-7"
      },
      "source": [
        "# **Pré-processamento**"
      ]
    },
    {
      "cell_type": "markdown",
      "metadata": {
        "id": "T0DICvtVqYYn"
      },
      "source": [
        "Em muitos casos, os algoritmos de aprendizado de máquina ainda não estão devidamente aptos para receber qualquer tipo de dado. No caso deste projeto, será necessário realizar alguns passos de pré-processamento nos textos das colunas."
      ]
    },
    {
      "cell_type": "markdown",
      "metadata": {
        "id": "pKcLzWfg6gij"
      },
      "source": [
        "No Processamento de Linguagem Natural (PLN), os textos não seguem sempre a mesma estrutura. Portanto, é necessário padronizá-los ou, ao menos, aproximá-los. Assim, torna-se possível aos algoritmos manipulá-los."
      ]
    },
    {
      "cell_type": "markdown",
      "metadata": {
        "id": "ShrvYhxM7J8B"
      },
      "source": [
        "No pré-processamento iremos utilizar técnicas de: remoção de valores nulos, remoção de caracteres especiais, remoção de *stop words*, lematização, etc"
      ]
    },
    {
      "cell_type": "markdown",
      "metadata": {
        "id": "e2C4BVF2-JaX"
      },
      "source": [
        "A priori, deve-se remover os valores nulos. Para isso, substituiremos os valores nulos pela moda."
      ]
    },
    {
      "cell_type": "code",
      "execution_count": null,
      "metadata": {
        "id": "1Cuj0RQ6_frH"
      },
      "outputs": [],
      "source": [
        "data.fillna(data['subject'].mode().values[0],inplace=True)"
      ]
    },
    {
      "cell_type": "markdown",
      "metadata": {
        "id": "u7AuwElM3Kfw"
      },
      "source": [
        "Aqui será utilizada uma estratégia de truncamento do assunto do email com a mensagem. Sendo ambas as características textos, tal estratégia poderá reduzir o trabalho de padronização."
      ]
    },
    {
      "cell_type": "code",
      "execution_count": null,
      "metadata": {
        "id": "0GgkwLum5yhU",
        "colab": {
          "base_uri": "https://localhost:8080/",
          "height": 140
        },
        "outputId": "ed56cb6d-88a3-4cae-a2ff-c636b61355f3"
      },
      "outputs": [
        {
          "output_type": "execute_result",
          "data": {
            "text/plain": [
              "'sociolinguistics lang classification grimes , joseph e . and barbara f . grimes ; ethnologue language family index ; pb . isbn : 0-88312 - 708 - 3 ; vi , 116 pp . ; $ 14 . 00 . summer institute of linguistics . this companion volume to ethnologue : languages of the world , twelfth edition lists language families of the world with sub-groups shown in a tree arrangement under the broadest classification of language family . the language family index facilitates locating language names in the ethnologue , making the data there more accessible . internet : academic . books @ sil . org languages , reference lang & culture gregerson , marilyn ; ritual , belief , and kinship in sulawesi ; pb . : isbn : 0-88312 - 621 - 4 ; ix , 194 pp . ; $ 25 . 00 . summer institute of linguistics . seven articles discuss five language groups in sulawesi , indonesia ; the primary focus is on cultural matters , with some linguistic content . topics include traditional religion and beliefs , certain ceremonies , and kinship . internet : academic . books @ sil . org language and society , indonesia computers & ling weber , david j . , stephen r . mcconnel , diana d . weber , and beth j . bryson ; primer : a tool for developing early reading materials ; pb . : isbn : 0-88313 - 678 - 8 ; xvi , 266 pp . + ms-dos software ; $ 26 . 00 . summer institute of linguistics . the authors present a computer program and instructions for developing reading materials in languages with little or no background in literacy . the book is structured as a how-to manual with step by step procedures to establish an appropriate primer sequence and to organize words , phrases , and sentences that correlate with the sequence . it presupposes a thorough knowledge of linguistics . internet : academic . books @ sil . org literacy , computer\\n'"
            ],
            "application/vnd.google.colaboratory.intrinsic+json": {
              "type": "string"
            }
          },
          "metadata": {},
          "execution_count": 111
        }
      ],
      "source": [
        "data['email'] = data['subject'] + ' ' + data['message']\n",
        "\n",
        "data['email'][1]"
      ]
    },
    {
      "cell_type": "code",
      "execution_count": null,
      "metadata": {
        "id": "7pT0YhDb6Jfp",
        "colab": {
          "base_uri": "https://localhost:8080/",
          "height": 140
        },
        "outputId": "10dd03b7-3e0d-4af3-cb13-062d1a45fdf4"
      },
      "outputs": [
        {
          "output_type": "execute_result",
          "data": {
            "text/plain": [
              "'sociolinguistics lang classification grimes , joseph e . and barbara f . grimes ; ethnologue language family index ; pb . isbn : 0-88312 - 708 - 3 ; vi , 116 pp . ; $ 14 . 00 . summer institute of linguistics . this companion volume to ethnologue : languages of the world , twelfth edition lists language families of the world with sub-groups shown in a tree arrangement under the broadest classification of language family . the language family index facilitates locating language names in the ethnologue , making the data there more accessible . internet : academic . books @ sil . org languages , reference lang & culture gregerson , marilyn ; ritual , belief , and kinship in sulawesi ; pb . : isbn : 0-88312 - 621 - 4 ; ix , 194 pp . ; $ 25 . 00 . summer institute of linguistics . seven articles discuss five language groups in sulawesi , indonesia ; the primary focus is on cultural matters , with some linguistic content . topics include traditional religion and beliefs , certain ceremonies , and kinship . internet : academic . books @ sil . org language and society , indonesia computers & ling weber , david j . , stephen r . mcconnel , diana d . weber , and beth j . bryson ; primer : a tool for developing early reading materials ; pb . : isbn : 0-88313 - 678 - 8 ; xvi , 266 pp . + ms-dos software ; $ 26 . 00 . summer institute of linguistics . the authors present a computer program and instructions for developing reading materials in languages with little or no background in literacy . the book is structured as a how-to manual with step by step procedures to establish an appropriate primer sequence and to organize words , phrases , and sentences that correlate with the sequence . it presupposes a thorough knowledge of linguistics . internet : academic . books @ sil . org literacy , computer\\n'"
            ],
            "application/vnd.google.colaboratory.intrinsic+json": {
              "type": "string"
            }
          },
          "metadata": {},
          "execution_count": 112
        }
      ],
      "source": [
        "# Remoção das quebras de linhas\n",
        "data['email']=data['email'].str.replace(r'\\n',\"\")\n",
        "\n",
        "data['email'][1]"
      ]
    },
    {
      "cell_type": "code",
      "execution_count": null,
      "metadata": {
        "id": "XPD3uHBi9NSA",
        "colab": {
          "base_uri": "https://localhost:8080/",
          "height": 122
        },
        "outputId": "48d2f646-1843-40ce-a939-34eac17dfd9d"
      },
      "outputs": [
        {
          "output_type": "execute_result",
          "data": {
            "text/plain": [
              "\"win money 300usd and a cruise ! raquel 's casino , inc . is awarding a cruise + money 300 to a lucky member . no purchase necessary to play ! join before month end to participate . ( you will automatically be enteredinto the next drawing . ) you can join at http : / / www . raquelscasino . com ( casino ) http : / / www . tobet . com ( sportsbook ) raquel 's online casino provides guests with a state-of - the-art gaming experience : - a chance to win a cruise and money 300 ! - 10 % sign-up bonus ! - free casino software ! - 25 casino games ! - international sportsbook ! - horse racing ! - play for fun , or for real ! our casino is secure , audited , private , and insured . thank you for your time and consideration . * * * * * * * * * * * * * * * * * * * * * * * * * * * * * * * * * * * * * * * * * * * * * * * * * * * * * * *\\n\""
            ],
            "application/vnd.google.colaboratory.intrinsic+json": {
              "type": "string"
            }
          },
          "metadata": {},
          "execution_count": 113
        }
      ],
      "source": [
        "# Substituição do símbolo '$'\n",
        "\n",
        "data['email']=data['email'].str.replace(r'$', 'money')\n",
        "\n",
        "data['email'][2887]"
      ]
    },
    {
      "cell_type": "code",
      "execution_count": null,
      "metadata": {
        "id": "ykH6BMhqrgn2",
        "colab": {
          "base_uri": "https://localhost:8080/",
          "height": 105
        },
        "outputId": "67c6bfdf-fc74-48fa-ee79-dd11010f8e2b"
      },
      "outputs": [
        {
          "output_type": "execute_result",
          "data": {
            "text/plain": [
              "'changes in the journal language the editorial staff and offices of the journal language have been changed as of this month . articles for submission and general correspondence should be sent to the following address : mark aronoff , editor language department of linguistics suny stony brook stony brook , ny phonenumber , usa book reviews and all correspondence concerning reviews should be sent to the following address : edwin battistella , review editor language division of humanities wayne state college wayne , ne phonenumber , usa both offices may be reached by email : main office : language . eds @ sunysb . edu review office : langrev @ wscgate . wsc . edu the main office may be reached by telephone : phone : phonenumber fax : phonenumber\\n'"
            ],
            "application/vnd.google.colaboratory.intrinsic+json": {
              "type": "string"
            }
          },
          "metadata": {},
          "execution_count": 114
        }
      ],
      "source": [
        "#Substituição dos numeros de telefone\n",
        "#Vale a observação que nem todos os números de telefone foram substituidos corretamente, porém, a maioria segue os passos do codigo\n",
        "\n",
        "data['email']=data['email'].str.replace(\"(.?){0,2}\\d?(\\(?\\d{3}\\D{0,3}\\d{3}\\D{0,3}\\d{4})\", \"phonenumber\")\n",
        "data['email']=data['email'].str.replace(r'\\+?\\d{1,4}[-.\\s]*\\(?\\d{1,3}\\)?[-.\\s]*\\d{1,4}[-.\\s]*\\d{1,4}[-.\\s]*\\d{1,9}', 'phonenumber', regex=True)\n",
        "\n",
        "data['email'][302]\n"
      ]
    },
    {
      "cell_type": "code",
      "execution_count": null,
      "metadata": {
        "id": "0nN-bcIvxNsR",
        "colab": {
          "base_uri": "https://localhost:8080/",
          "height": 122
        },
        "outputId": "7fc3ee6c-c2d0-4b33-f3b8-9198bd510931"
      },
      "outputs": [
        {
          "output_type": "execute_result",
          "data": {
            "text/plain": [
              "\"win money number usd and a cruise ! raquel 's casino , inc . is awarding a cruise + money number  to a lucky member . no purchase necessary to play ! join before month end to participate . ( you will automatically be enteredinto the next drawing . ) you can join at http : / / www . raquelscasino . com ( casino ) http : / / www . tobet . com ( sportsbook ) raquel 's online casino provides guests with a state-of - the-art gaming experience : - a chance to win a cruise and money number  ! - number  % sign-up bonus ! - free casino software ! - number  casino games ! - international sportsbook ! - horse racing ! - play for fun , or for real ! our casino is secure , audited , private , and insured . thank you for your time and consideration . * * * * * * * * * * * * * * * * * * * * * * * * * * * * * * * * * * * * * * * * * * * * * * * * * * * * * * *\\n\""
            ],
            "application/vnd.google.colaboratory.intrinsic+json": {
              "type": "string"
            }
          },
          "metadata": {},
          "execution_count": 115
        }
      ],
      "source": [
        "#Substituição dos numeros por 'number'\n",
        "\n",
        "data['email']=data['email'].str.replace(r'\\d+(\\.\\d+)?', 'number ', regex=True)\n",
        "data['email'][2887]"
      ]
    },
    {
      "cell_type": "code",
      "execution_count": null,
      "metadata": {
        "id": "Y-Ont7HCyiBe",
        "colab": {
          "base_uri": "https://localhost:8080/",
          "height": 122
        },
        "outputId": "c3e981b8-334f-401a-ac53-7cd64042a83d"
      },
      "outputs": [
        {
          "output_type": "execute_result",
          "data": {
            "text/plain": [
              "\"win money number usd and a cruise ! raquel 's casino , inc . is awarding a cruise + money number  to a lucky member . no purchase necessary to play ! join before month end to participate . ( you will automatically be enteredinto the next drawing . ) you can join at http : / / www . raquelscasino . com ( casino ) http : / / www . tobet . com ( sportsbook ) raquel 's online casino provides guests with a state-of - the-art gaming experience : - a chance to win a cruise and money number  ! - number  % sign-up bonus ! - free casino software ! - number  casino games ! - international sportsbook ! - horse racing ! - play for fun , or for real ! our casino is secure , audited , private , and insured . thank you for your time and consideration . * * * * * * * * * * * * * * * * * * * * * * * * * * * * * * * * * * * * * * * * * * * * * * * * * * * * * * *\\n\""
            ],
            "application/vnd.google.colaboratory.intrinsic+json": {
              "type": "string"
            }
          },
          "metadata": {},
          "execution_count": 116
        }
      ],
      "source": [
        "data['email'][2887]"
      ]
    },
    {
      "cell_type": "code",
      "execution_count": null,
      "metadata": {
        "id": "41_BEKM0ykp2",
        "colab": {
          "base_uri": "https://localhost:8080/",
          "height": 140
        },
        "outputId": "5eb36aae-5f74-49a3-8467-e5d907c6fb24"
      },
      "outputs": [
        {
          "output_type": "execute_result",
          "data": {
            "text/plain": [
              "'sociolinguistics lang classification grimes joseph e and barbara f grimes ethnologue language family index pb isbn phonenumber vi number pp money number number summer institute of linguistics this companion volume to ethnologue languages of the world twelfth edition lists language families of the world with sub groups shown in a tree arrangement under the broadest classification of language family the language family index facilitates locating language names in the ethnologue making the data there more accessible internet academic books @ sil org languages reference lang culture gregerson marilyn ritual belief and kinship in sulawesi pb isbn phonenumber ix number pp money number number summer institute of linguistics seven articles discuss five language groups in sulawesi indonesia the primary focus is on cultural matters with some linguistic content topics include traditional religion and beliefs certain ceremonies and kinship internet academic books @ sil org language and society indonesia computers ling weber david j stephen r mcconnel diana d weber and beth j bryson primer a tool for developing early reading materials pb isbn phonenumber xvi number pp ms dos software money number number summer institute of linguistics the authors present a computer program and instructions for developing reading materials in languages with little or no background in literacy the book is structured as a how to manual with step by step procedures to establish an appropriate primer sequence and to organize words phrases and sentences that correlate with the sequence it presupposes a thorough knowledge of linguistics internet academic books @ sil org literacy computer '"
            ],
            "application/vnd.google.colaboratory.intrinsic+json": {
              "type": "string"
            }
          },
          "metadata": {},
          "execution_count": 117
        }
      ],
      "source": [
        "# Remoção dos caracteres especiais\n",
        "data['email']=data['email'].str.replace(r\"[^a-zA-Z0-9@]+\", \" \", regex=True)\n",
        "\n",
        "data['email'][1]"
      ]
    },
    {
      "cell_type": "code",
      "execution_count": null,
      "metadata": {
        "id": "Rnsbm5OXyvpg",
        "colab": {
          "base_uri": "https://localhost:8080/",
          "height": 174
        },
        "outputId": "78b421db-1014-4d2a-d219-c17564914b1a"
      },
      "outputs": [
        {
          "output_type": "stream",
          "name": "stderr",
          "text": [
            "[nltk_data] Downloading package stopwords to /root/nltk_data...\n",
            "[nltk_data]   Package stopwords is already up-to-date!\n"
          ]
        },
        {
          "output_type": "execute_result",
          "data": {
            "text/plain": [
              "'sociolinguistics lang classification grimes joseph e barbara f grimes ethnologue language family index pb isbn phonenumber vi number pp money number number summer institute linguistics companion volume ethnologue languages world twelfth edition lists language families world sub groups shown tree arrangement broadest classification language family language family index facilitates locating language names ethnologue making data accessible internet academic books @ sil org languages reference lang culture gregerson marilyn ritual belief kinship sulawesi pb isbn phonenumber ix number pp money number number summer institute linguistics seven articles discuss language groups sulawesi indonesia primary focus cultural matters linguistic content topics include traditional religion beliefs certain ceremonies kinship internet academic books @ sil org language society indonesia computers ling weber david j stephen r mcconnel diana weber beth j bryson primer tool developing early reading materials pb isbn phonenumber xvi number pp ms dos software money number number summer institute linguistics authors present computer program instructions developing reading materials languages little background literacy book structured manual step step procedures establish appropriate primer sequence organize words phrases sentences correlate sequence presupposes thorough knowledge linguistics internet academic books @ sil org literacy computer'"
            ],
            "application/vnd.google.colaboratory.intrinsic+json": {
              "type": "string"
            }
          },
          "metadata": {},
          "execution_count": 118
        }
      ],
      "source": [
        "# Remoção de stop words\n",
        "nltk.download('stopwords')\n",
        "swords = nlp.Defaults.stop_words\n",
        "\n",
        "sw = list(set(stopwords.words('english') + list(swords)))\n",
        "\n",
        "data['email'] = data['email'].apply(lambda x: ' '.join([word for word in x.split() if word not in (sw)]))\n",
        "\n",
        "data['email'][1]\n"
      ]
    },
    {
      "cell_type": "code",
      "execution_count": null,
      "metadata": {
        "id": "0RhU-Ufsz5bP",
        "colab": {
          "base_uri": "https://localhost:8080/",
          "height": 140
        },
        "outputId": "3c9e74ad-55b9-4820-bce9-a191184fb8f0"
      },
      "outputs": [
        {
          "output_type": "execute_result",
          "data": {
            "text/plain": [
              "'sociolinguistic lang classification grime joseph e barbara f grime ethnologue language family index pb isbn phonenumber vi number pp money number number summer institute linguistics companion volume ethnologue language world twelfth edition list language family world sub group show tree arrangement broad classification language family language family index facilitate locate language name ethnologue make datum accessible internet academic book @ sil org language reference lang culture gregerson marilyn ritual belief kinship sulawesi pb isbn phonenumber ix number pp money number number summer institute linguistic seven article discuss language group sulawesi indonesia primary focus cultural matter linguistic content topic include traditional religion belief certain ceremony kinship internet academic book @ sil org language society indonesia computer le weber david j stephen r mcconnel diana weber beth j bryson primer tool develop early reading material pb isbn phonenumber xvi number pp ms dos software money number number summer institute linguistics author present computer program instruction develop reading material language little background literacy book structure manual step step procedure establish appropriate primer sequence organize word phrase sentence correlate sequence presuppose thorough knowledge linguistic internet academic book @ sil org literacy computer'"
            ],
            "application/vnd.google.colaboratory.intrinsic+json": {
              "type": "string"
            }
          },
          "metadata": {},
          "execution_count": 119
        }
      ],
      "source": [
        "#Lematização\n",
        "# Para que a lematização ficasse menos demorada e mais precisa utilizamos o código\n",
        "# disponível no seguinte link: https://stackoverflow.com/questions/75214153/lemmatization-taking-forever-with-spacy\n",
        "# Process large text as a stream via `nlp.pipe()` and iterate over the results, extracting lemmas\n",
        "lemma_text_list = []\n",
        "for doc in nlp.pipe(data[\"email\"]):\n",
        "    lemma_text_list.append(\" \".join(token.lemma_ for token in doc))\n",
        "data[\"email\"] = lemma_text_list\n",
        "\n",
        "data['email'][1]\n"
      ]
    },
    {
      "cell_type": "code",
      "execution_count": null,
      "metadata": {
        "id": "jhB3J1e6yz9N",
        "colab": {
          "base_uri": "https://localhost:8080/",
          "height": 140
        },
        "outputId": "737c0ea5-658b-4942-f556-0d11f5d38ca2"
      },
      "outputs": [
        {
          "output_type": "execute_result",
          "data": {
            "text/plain": [
              "'abstract optimality syntactic theory content length number paper good good workshop optimality syntactic theory hold massachusetts institute technology cambridge phonenumber syntactic research variety framework assign grow role notion comparison work forefront current research include theory involve principle economy optimality work unpublished formative stage legendre raymond smolensky number grimshaw number pesetsky number chomsky number number number relevant datum vary account empirical comparison proposal undertake number number number mit host workshop explore clarify particular issue syntactic theory comparison play significant role workshop consist invite talk talk select anonymously submit abstract abstract invite address follow question nature candidate reference set comparison linguistic object compete good choice criterion determine optimal output set candidate grammar compare derivation economy principle chomsky number number representation optimality theoretic analysis develop phonology prince smolensky number language acquisition variation explain parameterization constraint rank computational implication requirement different approach invite talk present joan bresnan stanford noam chomsky mit jane grimshaw rutgers david pesetsky mit paul smolensky geraldine legendre johns hopkins university edward stabler ucla submission consideration receive march number number mail fax transmission author abstract accept request provide complete paper mid april prepare focused discussion able assist travel cost student unemployed presenter number minute time slot reserve accept paper additional number minute question discussion abstract anonymous long page mailing address good mit number phonenumber massachusetts avenue cambridge phonenumber mailing include copy anonymous abstract cover sheet indicate paper title author affiliation address phone number email address fax transmission number phonenumber attention david pesetsky include cover sheet question address email good @ mit edu detailed conference information available anonymous ftp broca mit edu pub good directory reference cite chomsky n number note economy derivation representation laka mahajan ed mit work paper linguistic number cambridge mit work paper linguistics chomsky n number minimalist program linguistic theory hale k j keyser ed view build number cambridge mit press chomsky n number bare phrase structure occasional paper number cambridge mit work paper linguistics grimshaw j number minimal projection head optimality ms rutger university available anonymous ftp ruccs rutger edu pub ot paper minproj ps appear linguistic inquiry legendre g w raymond p smolensky number optimality theoretic typology case grammatical voice system proceeding nineteenth annual meeting berkeley linguistic society berkeley phonenumber pesetsky prep syntax edge optimality effect sentence grammar handout available anonymous ftp ruccs rutger edu pub ot paper sentpron ps prince p smolensky number optimality theory constraint interaction generative grammar ruccs technical report number rutger university center cognitive science piscataway new jersey appear mit press'"
            ],
            "application/vnd.google.colaboratory.intrinsic+json": {
              "type": "string"
            }
          },
          "metadata": {},
          "execution_count": 120
        }
      ],
      "source": [
        "data['email'][5]"
      ]
    },
    {
      "cell_type": "code",
      "execution_count": null,
      "metadata": {
        "id": "ZmTniAIxzC3x",
        "colab": {
          "base_uri": "https://localhost:8080/",
          "height": 140
        },
        "outputId": "877823bc-ec80-4c02-d69f-2b7a165d4d2e"
      },
      "outputs": [
        {
          "output_type": "execute_result",
          "data": {
            "text/plain": [
              "'job post apple iss research center content length number apple iss research center money number million joint venture apple computer inc institute systems science national university singapore locate singapore look senior speech scientist successful candidate research expertise computational linguistic include natural language process english chinese statistical language model knowledge state art corpus base n gram language model cache language model speech language model require text speech project leader successful candidate research expertise expertise follow area computational linguistic include natural language parse lexical database design statistical language model text tokenization normalization prosodic analysis substantial knowledge phonology syntax semantics chinese require knowledge acoustic phonetics speech signal processing desirable candidate phd number number year relevant work experience technical msc degree number number year experienc e strong software engineering skill include design implementation productization require position knowledge c c unix prefer unix c programmer look experienced unix c programmer preferably good industry experience join break new frontier strong knowledge unix tool compiler linker x windows e mac experience matlab require sun silicon graphic experience advantage programmer year industry experience need apply position include interaction scientist national university singapore apple speech research productization effort locate cupertino california attendance publication international scientific engineering conference encourage benefit include internationally competitive salary housing subsidy relocation expense send complete resume enclose personal particular qualification experience contact telephone number mr jean luc lebrun center manager apple iss research center institute systems science heng mui keng terrace singapore number tel number phonenumber fax number phonenumber email jllebrun @ iss nus sg'"
            ],
            "application/vnd.google.colaboratory.intrinsic+json": {
              "type": "string"
            }
          },
          "metadata": {},
          "execution_count": 121
        }
      ],
      "source": [
        "data['email'][0]"
      ]
    },
    {
      "cell_type": "code",
      "execution_count": null,
      "metadata": {
        "id": "8MiOEtwvzGBU"
      },
      "outputs": [],
      "source": [
        "data = data.drop(['message', 'subject'], axis=1)"
      ]
    },
    {
      "cell_type": "code",
      "execution_count": null,
      "metadata": {
        "id": "cTtpk-w81CSi",
        "colab": {
          "base_uri": "https://localhost:8080/",
          "height": 424
        },
        "outputId": "a070a753-e4e5-4682-ff43-d1289340719f"
      },
      "outputs": [
        {
          "output_type": "execute_result",
          "data": {
            "text/plain": [
              "      label                                              email\n",
              "0         0  job post apple iss research center content len...\n",
              "1         0  sociolinguistic lang classification grime jose...\n",
              "2         0  query letter frequency text identification pos...\n",
              "3         0  risk colleague research differ degree risk per...\n",
              "4         0  request book information early morning phone f...\n",
              "...     ...                                                ...\n",
              "2888      1  love profile ysuolvpv hello thank stop take ne...\n",
              "2889      1  ask join kiddin list owner kiddin invite join ...\n",
              "2890      0  anglicization composer name judge return post ...\n",
              "2891      0  number number comparative method n ary compari...\n",
              "2892      0  american english australia hello work thesis c...\n",
              "\n",
              "[2893 rows x 2 columns]"
            ],
            "text/html": [
              "\n",
              "  <div id=\"df-34a1c3e3-09a4-43b3-9713-7fc1d4052278\" class=\"colab-df-container\">\n",
              "    <div>\n",
              "<style scoped>\n",
              "    .dataframe tbody tr th:only-of-type {\n",
              "        vertical-align: middle;\n",
              "    }\n",
              "\n",
              "    .dataframe tbody tr th {\n",
              "        vertical-align: top;\n",
              "    }\n",
              "\n",
              "    .dataframe thead th {\n",
              "        text-align: right;\n",
              "    }\n",
              "</style>\n",
              "<table border=\"1\" class=\"dataframe\">\n",
              "  <thead>\n",
              "    <tr style=\"text-align: right;\">\n",
              "      <th></th>\n",
              "      <th>label</th>\n",
              "      <th>email</th>\n",
              "    </tr>\n",
              "  </thead>\n",
              "  <tbody>\n",
              "    <tr>\n",
              "      <th>0</th>\n",
              "      <td>0</td>\n",
              "      <td>job post apple iss research center content len...</td>\n",
              "    </tr>\n",
              "    <tr>\n",
              "      <th>1</th>\n",
              "      <td>0</td>\n",
              "      <td>sociolinguistic lang classification grime jose...</td>\n",
              "    </tr>\n",
              "    <tr>\n",
              "      <th>2</th>\n",
              "      <td>0</td>\n",
              "      <td>query letter frequency text identification pos...</td>\n",
              "    </tr>\n",
              "    <tr>\n",
              "      <th>3</th>\n",
              "      <td>0</td>\n",
              "      <td>risk colleague research differ degree risk per...</td>\n",
              "    </tr>\n",
              "    <tr>\n",
              "      <th>4</th>\n",
              "      <td>0</td>\n",
              "      <td>request book information early morning phone f...</td>\n",
              "    </tr>\n",
              "    <tr>\n",
              "      <th>...</th>\n",
              "      <td>...</td>\n",
              "      <td>...</td>\n",
              "    </tr>\n",
              "    <tr>\n",
              "      <th>2888</th>\n",
              "      <td>1</td>\n",
              "      <td>love profile ysuolvpv hello thank stop take ne...</td>\n",
              "    </tr>\n",
              "    <tr>\n",
              "      <th>2889</th>\n",
              "      <td>1</td>\n",
              "      <td>ask join kiddin list owner kiddin invite join ...</td>\n",
              "    </tr>\n",
              "    <tr>\n",
              "      <th>2890</th>\n",
              "      <td>0</td>\n",
              "      <td>anglicization composer name judge return post ...</td>\n",
              "    </tr>\n",
              "    <tr>\n",
              "      <th>2891</th>\n",
              "      <td>0</td>\n",
              "      <td>number number comparative method n ary compari...</td>\n",
              "    </tr>\n",
              "    <tr>\n",
              "      <th>2892</th>\n",
              "      <td>0</td>\n",
              "      <td>american english australia hello work thesis c...</td>\n",
              "    </tr>\n",
              "  </tbody>\n",
              "</table>\n",
              "<p>2893 rows × 2 columns</p>\n",
              "</div>\n",
              "    <div class=\"colab-df-buttons\">\n",
              "\n",
              "  <div class=\"colab-df-container\">\n",
              "    <button class=\"colab-df-convert\" onclick=\"convertToInteractive('df-34a1c3e3-09a4-43b3-9713-7fc1d4052278')\"\n",
              "            title=\"Convert this dataframe to an interactive table.\"\n",
              "            style=\"display:none;\">\n",
              "\n",
              "  <svg xmlns=\"http://www.w3.org/2000/svg\" height=\"24px\" viewBox=\"0 -960 960 960\">\n",
              "    <path d=\"M120-120v-720h720v720H120Zm60-500h600v-160H180v160Zm220 220h160v-160H400v160Zm0 220h160v-160H400v160ZM180-400h160v-160H180v160Zm440 0h160v-160H620v160ZM180-180h160v-160H180v160Zm440 0h160v-160H620v160Z\"/>\n",
              "  </svg>\n",
              "    </button>\n",
              "\n",
              "  <style>\n",
              "    .colab-df-container {\n",
              "      display:flex;\n",
              "      gap: 12px;\n",
              "    }\n",
              "\n",
              "    .colab-df-convert {\n",
              "      background-color: #E8F0FE;\n",
              "      border: none;\n",
              "      border-radius: 50%;\n",
              "      cursor: pointer;\n",
              "      display: none;\n",
              "      fill: #1967D2;\n",
              "      height: 32px;\n",
              "      padding: 0 0 0 0;\n",
              "      width: 32px;\n",
              "    }\n",
              "\n",
              "    .colab-df-convert:hover {\n",
              "      background-color: #E2EBFA;\n",
              "      box-shadow: 0px 1px 2px rgba(60, 64, 67, 0.3), 0px 1px 3px 1px rgba(60, 64, 67, 0.15);\n",
              "      fill: #174EA6;\n",
              "    }\n",
              "\n",
              "    .colab-df-buttons div {\n",
              "      margin-bottom: 4px;\n",
              "    }\n",
              "\n",
              "    [theme=dark] .colab-df-convert {\n",
              "      background-color: #3B4455;\n",
              "      fill: #D2E3FC;\n",
              "    }\n",
              "\n",
              "    [theme=dark] .colab-df-convert:hover {\n",
              "      background-color: #434B5C;\n",
              "      box-shadow: 0px 1px 3px 1px rgba(0, 0, 0, 0.15);\n",
              "      filter: drop-shadow(0px 1px 2px rgba(0, 0, 0, 0.3));\n",
              "      fill: #FFFFFF;\n",
              "    }\n",
              "  </style>\n",
              "\n",
              "    <script>\n",
              "      const buttonEl =\n",
              "        document.querySelector('#df-34a1c3e3-09a4-43b3-9713-7fc1d4052278 button.colab-df-convert');\n",
              "      buttonEl.style.display =\n",
              "        google.colab.kernel.accessAllowed ? 'block' : 'none';\n",
              "\n",
              "      async function convertToInteractive(key) {\n",
              "        const element = document.querySelector('#df-34a1c3e3-09a4-43b3-9713-7fc1d4052278');\n",
              "        const dataTable =\n",
              "          await google.colab.kernel.invokeFunction('convertToInteractive',\n",
              "                                                    [key], {});\n",
              "        if (!dataTable) return;\n",
              "\n",
              "        const docLinkHtml = 'Like what you see? Visit the ' +\n",
              "          '<a target=\"_blank\" href=https://colab.research.google.com/notebooks/data_table.ipynb>data table notebook</a>'\n",
              "          + ' to learn more about interactive tables.';\n",
              "        element.innerHTML = '';\n",
              "        dataTable['output_type'] = 'display_data';\n",
              "        await google.colab.output.renderOutput(dataTable, element);\n",
              "        const docLink = document.createElement('div');\n",
              "        docLink.innerHTML = docLinkHtml;\n",
              "        element.appendChild(docLink);\n",
              "      }\n",
              "    </script>\n",
              "  </div>\n",
              "\n",
              "\n",
              "<div id=\"df-85d68a1f-786a-4a29-8e79-7eee06ee7dc9\">\n",
              "  <button class=\"colab-df-quickchart\" onclick=\"quickchart('df-85d68a1f-786a-4a29-8e79-7eee06ee7dc9')\"\n",
              "            title=\"Suggest charts\"\n",
              "            style=\"display:none;\">\n",
              "\n",
              "<svg xmlns=\"http://www.w3.org/2000/svg\" height=\"24px\"viewBox=\"0 0 24 24\"\n",
              "     width=\"24px\">\n",
              "    <g>\n",
              "        <path d=\"M19 3H5c-1.1 0-2 .9-2 2v14c0 1.1.9 2 2 2h14c1.1 0 2-.9 2-2V5c0-1.1-.9-2-2-2zM9 17H7v-7h2v7zm4 0h-2V7h2v10zm4 0h-2v-4h2v4z\"/>\n",
              "    </g>\n",
              "</svg>\n",
              "  </button>\n",
              "\n",
              "<style>\n",
              "  .colab-df-quickchart {\n",
              "      --bg-color: #E8F0FE;\n",
              "      --fill-color: #1967D2;\n",
              "      --hover-bg-color: #E2EBFA;\n",
              "      --hover-fill-color: #174EA6;\n",
              "      --disabled-fill-color: #AAA;\n",
              "      --disabled-bg-color: #DDD;\n",
              "  }\n",
              "\n",
              "  [theme=dark] .colab-df-quickchart {\n",
              "      --bg-color: #3B4455;\n",
              "      --fill-color: #D2E3FC;\n",
              "      --hover-bg-color: #434B5C;\n",
              "      --hover-fill-color: #FFFFFF;\n",
              "      --disabled-bg-color: #3B4455;\n",
              "      --disabled-fill-color: #666;\n",
              "  }\n",
              "\n",
              "  .colab-df-quickchart {\n",
              "    background-color: var(--bg-color);\n",
              "    border: none;\n",
              "    border-radius: 50%;\n",
              "    cursor: pointer;\n",
              "    display: none;\n",
              "    fill: var(--fill-color);\n",
              "    height: 32px;\n",
              "    padding: 0;\n",
              "    width: 32px;\n",
              "  }\n",
              "\n",
              "  .colab-df-quickchart:hover {\n",
              "    background-color: var(--hover-bg-color);\n",
              "    box-shadow: 0 1px 2px rgba(60, 64, 67, 0.3), 0 1px 3px 1px rgba(60, 64, 67, 0.15);\n",
              "    fill: var(--button-hover-fill-color);\n",
              "  }\n",
              "\n",
              "  .colab-df-quickchart-complete:disabled,\n",
              "  .colab-df-quickchart-complete:disabled:hover {\n",
              "    background-color: var(--disabled-bg-color);\n",
              "    fill: var(--disabled-fill-color);\n",
              "    box-shadow: none;\n",
              "  }\n",
              "\n",
              "  .colab-df-spinner {\n",
              "    border: 2px solid var(--fill-color);\n",
              "    border-color: transparent;\n",
              "    border-bottom-color: var(--fill-color);\n",
              "    animation:\n",
              "      spin 1s steps(1) infinite;\n",
              "  }\n",
              "\n",
              "  @keyframes spin {\n",
              "    0% {\n",
              "      border-color: transparent;\n",
              "      border-bottom-color: var(--fill-color);\n",
              "      border-left-color: var(--fill-color);\n",
              "    }\n",
              "    20% {\n",
              "      border-color: transparent;\n",
              "      border-left-color: var(--fill-color);\n",
              "      border-top-color: var(--fill-color);\n",
              "    }\n",
              "    30% {\n",
              "      border-color: transparent;\n",
              "      border-left-color: var(--fill-color);\n",
              "      border-top-color: var(--fill-color);\n",
              "      border-right-color: var(--fill-color);\n",
              "    }\n",
              "    40% {\n",
              "      border-color: transparent;\n",
              "      border-right-color: var(--fill-color);\n",
              "      border-top-color: var(--fill-color);\n",
              "    }\n",
              "    60% {\n",
              "      border-color: transparent;\n",
              "      border-right-color: var(--fill-color);\n",
              "    }\n",
              "    80% {\n",
              "      border-color: transparent;\n",
              "      border-right-color: var(--fill-color);\n",
              "      border-bottom-color: var(--fill-color);\n",
              "    }\n",
              "    90% {\n",
              "      border-color: transparent;\n",
              "      border-bottom-color: var(--fill-color);\n",
              "    }\n",
              "  }\n",
              "</style>\n",
              "\n",
              "  <script>\n",
              "    async function quickchart(key) {\n",
              "      const quickchartButtonEl =\n",
              "        document.querySelector('#' + key + ' button');\n",
              "      quickchartButtonEl.disabled = true;  // To prevent multiple clicks.\n",
              "      quickchartButtonEl.classList.add('colab-df-spinner');\n",
              "      try {\n",
              "        const charts = await google.colab.kernel.invokeFunction(\n",
              "            'suggestCharts', [key], {});\n",
              "      } catch (error) {\n",
              "        console.error('Error during call to suggestCharts:', error);\n",
              "      }\n",
              "      quickchartButtonEl.classList.remove('colab-df-spinner');\n",
              "      quickchartButtonEl.classList.add('colab-df-quickchart-complete');\n",
              "    }\n",
              "    (() => {\n",
              "      let quickchartButtonEl =\n",
              "        document.querySelector('#df-85d68a1f-786a-4a29-8e79-7eee06ee7dc9 button');\n",
              "      quickchartButtonEl.style.display =\n",
              "        google.colab.kernel.accessAllowed ? 'block' : 'none';\n",
              "    })();\n",
              "  </script>\n",
              "</div>\n",
              "    </div>\n",
              "  </div>\n"
            ],
            "application/vnd.google.colaboratory.intrinsic+json": {
              "type": "dataframe",
              "variable_name": "data",
              "summary": "{\n  \"name\": \"data\",\n  \"rows\": 2893,\n  \"fields\": [\n    {\n      \"column\": \"label\",\n      \"properties\": {\n        \"dtype\": \"number\",\n        \"std\": 0,\n        \"min\": 0,\n        \"max\": 1,\n        \"num_unique_values\": 2,\n        \"samples\": [\n          1,\n          0\n        ],\n        \"semantic_type\": \"\",\n        \"description\": \"\"\n      }\n    },\n    {\n      \"column\": \"email\",\n      \"properties\": {\n        \"dtype\": \"string\",\n        \"num_unique_values\": 2868,\n        \"samples\": [\n          \"site read internet page wonder interested memorable alpha numeric phonenumber glasgow phonenumber scotland telephone number easily remember customer marketing campaign interested phonenumber sorry contact number\",\n          \"coupon saving wholesale discount moment read free discount club number offer charge subscriber nationally know product substantial discount substantial retail case wholesale fee charge cost receive discount coupon sponsor provide subscriber free charge number solicitation sale opportunity save money product service entire family enjoy fee charge subscriber number offer discount follow type good number tool kind tool lifetime warranty good big well know retailer country location united states number coupon save oil change battery tire number weekend family outing discount coupon theater attraction amusement number travel discount lodge planning trip receive discount cruise line auto rental mountaintop beach resort entire family number save special limited edition book clothing collectible currently negotiate lead manufacturer child teen clothing wholesale pricing number black forest cuckoo clock import germany price number number retail year warranty number computer upgrade need saving number retail current state art equipment outdate phase good number home furnishing sponsor premier producer tabletop fountain giftware subscriber receive wholesale pricing number camp outdoor equipment number retail nationally know product sleep bag cookstove tent lifetime warranty product number newsletter deliver occasion saving opportunity family opportunity save money great product discount price free charge fee subscriber number fee subscriber cost sponsor pay number advantage saving discount offer number easy send e mail subscribe notify e mail good money saving offer discount coupon number invitation subsequent offer interest inform respond remove number request honor immediately number pledge subscriber number number available party circumstance reply address information hold strictest number confidence number number product available subscriber intend number household child number number product discount retail price number coupon number follow information request mandatory choose provide town state hope opportunity localize offer state town live new york discount ticket theater zoo money saving coupon accommodation catskill know location able well serve subscriber number tell friend wonderful opportunity family save money number subscription request repeat join today start save money number number newsletter schedule deliver week number time christmas shopping number number number number number number number number number\"\n        ],\n        \"semantic_type\": \"\",\n        \"description\": \"\"\n      }\n    }\n  ]\n}"
            }
          },
          "metadata": {},
          "execution_count": 123
        }
      ],
      "source": [
        "data"
      ]
    },
    {
      "cell_type": "code",
      "execution_count": null,
      "metadata": {
        "id": "FtFlwzkf1L0V",
        "colab": {
          "base_uri": "https://localhost:8080/",
          "height": 206
        },
        "outputId": "8665090d-bbc9-48a0-93c3-e7ef154c7c66"
      },
      "outputs": [
        {
          "output_type": "execute_result",
          "data": {
            "text/plain": [
              "   label                                              email  length\n",
              "0      0  job post apple iss research center content len...    1983\n",
              "1      0  sociolinguistic lang classification grime jose...    1389\n",
              "2      0  query letter frequency text identification pos...     923\n",
              "3      0  risk colleague research differ degree risk per...     180\n",
              "4      0  request book information early morning phone f...     557"
            ],
            "text/html": [
              "\n",
              "  <div id=\"df-624d7636-c5da-46dc-8dfd-c68120904aad\" class=\"colab-df-container\">\n",
              "    <div>\n",
              "<style scoped>\n",
              "    .dataframe tbody tr th:only-of-type {\n",
              "        vertical-align: middle;\n",
              "    }\n",
              "\n",
              "    .dataframe tbody tr th {\n",
              "        vertical-align: top;\n",
              "    }\n",
              "\n",
              "    .dataframe thead th {\n",
              "        text-align: right;\n",
              "    }\n",
              "</style>\n",
              "<table border=\"1\" class=\"dataframe\">\n",
              "  <thead>\n",
              "    <tr style=\"text-align: right;\">\n",
              "      <th></th>\n",
              "      <th>label</th>\n",
              "      <th>email</th>\n",
              "      <th>length</th>\n",
              "    </tr>\n",
              "  </thead>\n",
              "  <tbody>\n",
              "    <tr>\n",
              "      <th>0</th>\n",
              "      <td>0</td>\n",
              "      <td>job post apple iss research center content len...</td>\n",
              "      <td>1983</td>\n",
              "    </tr>\n",
              "    <tr>\n",
              "      <th>1</th>\n",
              "      <td>0</td>\n",
              "      <td>sociolinguistic lang classification grime jose...</td>\n",
              "      <td>1389</td>\n",
              "    </tr>\n",
              "    <tr>\n",
              "      <th>2</th>\n",
              "      <td>0</td>\n",
              "      <td>query letter frequency text identification pos...</td>\n",
              "      <td>923</td>\n",
              "    </tr>\n",
              "    <tr>\n",
              "      <th>3</th>\n",
              "      <td>0</td>\n",
              "      <td>risk colleague research differ degree risk per...</td>\n",
              "      <td>180</td>\n",
              "    </tr>\n",
              "    <tr>\n",
              "      <th>4</th>\n",
              "      <td>0</td>\n",
              "      <td>request book information early morning phone f...</td>\n",
              "      <td>557</td>\n",
              "    </tr>\n",
              "  </tbody>\n",
              "</table>\n",
              "</div>\n",
              "    <div class=\"colab-df-buttons\">\n",
              "\n",
              "  <div class=\"colab-df-container\">\n",
              "    <button class=\"colab-df-convert\" onclick=\"convertToInteractive('df-624d7636-c5da-46dc-8dfd-c68120904aad')\"\n",
              "            title=\"Convert this dataframe to an interactive table.\"\n",
              "            style=\"display:none;\">\n",
              "\n",
              "  <svg xmlns=\"http://www.w3.org/2000/svg\" height=\"24px\" viewBox=\"0 -960 960 960\">\n",
              "    <path d=\"M120-120v-720h720v720H120Zm60-500h600v-160H180v160Zm220 220h160v-160H400v160Zm0 220h160v-160H400v160ZM180-400h160v-160H180v160Zm440 0h160v-160H620v160ZM180-180h160v-160H180v160Zm440 0h160v-160H620v160Z\"/>\n",
              "  </svg>\n",
              "    </button>\n",
              "\n",
              "  <style>\n",
              "    .colab-df-container {\n",
              "      display:flex;\n",
              "      gap: 12px;\n",
              "    }\n",
              "\n",
              "    .colab-df-convert {\n",
              "      background-color: #E8F0FE;\n",
              "      border: none;\n",
              "      border-radius: 50%;\n",
              "      cursor: pointer;\n",
              "      display: none;\n",
              "      fill: #1967D2;\n",
              "      height: 32px;\n",
              "      padding: 0 0 0 0;\n",
              "      width: 32px;\n",
              "    }\n",
              "\n",
              "    .colab-df-convert:hover {\n",
              "      background-color: #E2EBFA;\n",
              "      box-shadow: 0px 1px 2px rgba(60, 64, 67, 0.3), 0px 1px 3px 1px rgba(60, 64, 67, 0.15);\n",
              "      fill: #174EA6;\n",
              "    }\n",
              "\n",
              "    .colab-df-buttons div {\n",
              "      margin-bottom: 4px;\n",
              "    }\n",
              "\n",
              "    [theme=dark] .colab-df-convert {\n",
              "      background-color: #3B4455;\n",
              "      fill: #D2E3FC;\n",
              "    }\n",
              "\n",
              "    [theme=dark] .colab-df-convert:hover {\n",
              "      background-color: #434B5C;\n",
              "      box-shadow: 0px 1px 3px 1px rgba(0, 0, 0, 0.15);\n",
              "      filter: drop-shadow(0px 1px 2px rgba(0, 0, 0, 0.3));\n",
              "      fill: #FFFFFF;\n",
              "    }\n",
              "  </style>\n",
              "\n",
              "    <script>\n",
              "      const buttonEl =\n",
              "        document.querySelector('#df-624d7636-c5da-46dc-8dfd-c68120904aad button.colab-df-convert');\n",
              "      buttonEl.style.display =\n",
              "        google.colab.kernel.accessAllowed ? 'block' : 'none';\n",
              "\n",
              "      async function convertToInteractive(key) {\n",
              "        const element = document.querySelector('#df-624d7636-c5da-46dc-8dfd-c68120904aad');\n",
              "        const dataTable =\n",
              "          await google.colab.kernel.invokeFunction('convertToInteractive',\n",
              "                                                    [key], {});\n",
              "        if (!dataTable) return;\n",
              "\n",
              "        const docLinkHtml = 'Like what you see? Visit the ' +\n",
              "          '<a target=\"_blank\" href=https://colab.research.google.com/notebooks/data_table.ipynb>data table notebook</a>'\n",
              "          + ' to learn more about interactive tables.';\n",
              "        element.innerHTML = '';\n",
              "        dataTable['output_type'] = 'display_data';\n",
              "        await google.colab.output.renderOutput(dataTable, element);\n",
              "        const docLink = document.createElement('div');\n",
              "        docLink.innerHTML = docLinkHtml;\n",
              "        element.appendChild(docLink);\n",
              "      }\n",
              "    </script>\n",
              "  </div>\n",
              "\n",
              "\n",
              "<div id=\"df-495694e2-7297-4c6a-86cc-942dbea72bfc\">\n",
              "  <button class=\"colab-df-quickchart\" onclick=\"quickchart('df-495694e2-7297-4c6a-86cc-942dbea72bfc')\"\n",
              "            title=\"Suggest charts\"\n",
              "            style=\"display:none;\">\n",
              "\n",
              "<svg xmlns=\"http://www.w3.org/2000/svg\" height=\"24px\"viewBox=\"0 0 24 24\"\n",
              "     width=\"24px\">\n",
              "    <g>\n",
              "        <path d=\"M19 3H5c-1.1 0-2 .9-2 2v14c0 1.1.9 2 2 2h14c1.1 0 2-.9 2-2V5c0-1.1-.9-2-2-2zM9 17H7v-7h2v7zm4 0h-2V7h2v10zm4 0h-2v-4h2v4z\"/>\n",
              "    </g>\n",
              "</svg>\n",
              "  </button>\n",
              "\n",
              "<style>\n",
              "  .colab-df-quickchart {\n",
              "      --bg-color: #E8F0FE;\n",
              "      --fill-color: #1967D2;\n",
              "      --hover-bg-color: #E2EBFA;\n",
              "      --hover-fill-color: #174EA6;\n",
              "      --disabled-fill-color: #AAA;\n",
              "      --disabled-bg-color: #DDD;\n",
              "  }\n",
              "\n",
              "  [theme=dark] .colab-df-quickchart {\n",
              "      --bg-color: #3B4455;\n",
              "      --fill-color: #D2E3FC;\n",
              "      --hover-bg-color: #434B5C;\n",
              "      --hover-fill-color: #FFFFFF;\n",
              "      --disabled-bg-color: #3B4455;\n",
              "      --disabled-fill-color: #666;\n",
              "  }\n",
              "\n",
              "  .colab-df-quickchart {\n",
              "    background-color: var(--bg-color);\n",
              "    border: none;\n",
              "    border-radius: 50%;\n",
              "    cursor: pointer;\n",
              "    display: none;\n",
              "    fill: var(--fill-color);\n",
              "    height: 32px;\n",
              "    padding: 0;\n",
              "    width: 32px;\n",
              "  }\n",
              "\n",
              "  .colab-df-quickchart:hover {\n",
              "    background-color: var(--hover-bg-color);\n",
              "    box-shadow: 0 1px 2px rgba(60, 64, 67, 0.3), 0 1px 3px 1px rgba(60, 64, 67, 0.15);\n",
              "    fill: var(--button-hover-fill-color);\n",
              "  }\n",
              "\n",
              "  .colab-df-quickchart-complete:disabled,\n",
              "  .colab-df-quickchart-complete:disabled:hover {\n",
              "    background-color: var(--disabled-bg-color);\n",
              "    fill: var(--disabled-fill-color);\n",
              "    box-shadow: none;\n",
              "  }\n",
              "\n",
              "  .colab-df-spinner {\n",
              "    border: 2px solid var(--fill-color);\n",
              "    border-color: transparent;\n",
              "    border-bottom-color: var(--fill-color);\n",
              "    animation:\n",
              "      spin 1s steps(1) infinite;\n",
              "  }\n",
              "\n",
              "  @keyframes spin {\n",
              "    0% {\n",
              "      border-color: transparent;\n",
              "      border-bottom-color: var(--fill-color);\n",
              "      border-left-color: var(--fill-color);\n",
              "    }\n",
              "    20% {\n",
              "      border-color: transparent;\n",
              "      border-left-color: var(--fill-color);\n",
              "      border-top-color: var(--fill-color);\n",
              "    }\n",
              "    30% {\n",
              "      border-color: transparent;\n",
              "      border-left-color: var(--fill-color);\n",
              "      border-top-color: var(--fill-color);\n",
              "      border-right-color: var(--fill-color);\n",
              "    }\n",
              "    40% {\n",
              "      border-color: transparent;\n",
              "      border-right-color: var(--fill-color);\n",
              "      border-top-color: var(--fill-color);\n",
              "    }\n",
              "    60% {\n",
              "      border-color: transparent;\n",
              "      border-right-color: var(--fill-color);\n",
              "    }\n",
              "    80% {\n",
              "      border-color: transparent;\n",
              "      border-right-color: var(--fill-color);\n",
              "      border-bottom-color: var(--fill-color);\n",
              "    }\n",
              "    90% {\n",
              "      border-color: transparent;\n",
              "      border-bottom-color: var(--fill-color);\n",
              "    }\n",
              "  }\n",
              "</style>\n",
              "\n",
              "  <script>\n",
              "    async function quickchart(key) {\n",
              "      const quickchartButtonEl =\n",
              "        document.querySelector('#' + key + ' button');\n",
              "      quickchartButtonEl.disabled = true;  // To prevent multiple clicks.\n",
              "      quickchartButtonEl.classList.add('colab-df-spinner');\n",
              "      try {\n",
              "        const charts = await google.colab.kernel.invokeFunction(\n",
              "            'suggestCharts', [key], {});\n",
              "      } catch (error) {\n",
              "        console.error('Error during call to suggestCharts:', error);\n",
              "      }\n",
              "      quickchartButtonEl.classList.remove('colab-df-spinner');\n",
              "      quickchartButtonEl.classList.add('colab-df-quickchart-complete');\n",
              "    }\n",
              "    (() => {\n",
              "      let quickchartButtonEl =\n",
              "        document.querySelector('#df-495694e2-7297-4c6a-86cc-942dbea72bfc button');\n",
              "      quickchartButtonEl.style.display =\n",
              "        google.colab.kernel.accessAllowed ? 'block' : 'none';\n",
              "    })();\n",
              "  </script>\n",
              "</div>\n",
              "    </div>\n",
              "  </div>\n"
            ],
            "application/vnd.google.colaboratory.intrinsic+json": {
              "type": "dataframe",
              "variable_name": "data",
              "summary": "{\n  \"name\": \"data\",\n  \"rows\": 2893,\n  \"fields\": [\n    {\n      \"column\": \"label\",\n      \"properties\": {\n        \"dtype\": \"number\",\n        \"std\": 0,\n        \"min\": 0,\n        \"max\": 1,\n        \"num_unique_values\": 2,\n        \"samples\": [\n          1,\n          0\n        ],\n        \"semantic_type\": \"\",\n        \"description\": \"\"\n      }\n    },\n    {\n      \"column\": \"email\",\n      \"properties\": {\n        \"dtype\": \"string\",\n        \"num_unique_values\": 2868,\n        \"samples\": [\n          \"site read internet page wonder interested memorable alpha numeric phonenumber glasgow phonenumber scotland telephone number easily remember customer marketing campaign interested phonenumber sorry contact number\",\n          \"coupon saving wholesale discount moment read free discount club number offer charge subscriber nationally know product substantial discount substantial retail case wholesale fee charge cost receive discount coupon sponsor provide subscriber free charge number solicitation sale opportunity save money product service entire family enjoy fee charge subscriber number offer discount follow type good number tool kind tool lifetime warranty good big well know retailer country location united states number coupon save oil change battery tire number weekend family outing discount coupon theater attraction amusement number travel discount lodge planning trip receive discount cruise line auto rental mountaintop beach resort entire family number save special limited edition book clothing collectible currently negotiate lead manufacturer child teen clothing wholesale pricing number black forest cuckoo clock import germany price number number retail year warranty number computer upgrade need saving number retail current state art equipment outdate phase good number home furnishing sponsor premier producer tabletop fountain giftware subscriber receive wholesale pricing number camp outdoor equipment number retail nationally know product sleep bag cookstove tent lifetime warranty product number newsletter deliver occasion saving opportunity family opportunity save money great product discount price free charge fee subscriber number fee subscriber cost sponsor pay number advantage saving discount offer number easy send e mail subscribe notify e mail good money saving offer discount coupon number invitation subsequent offer interest inform respond remove number request honor immediately number pledge subscriber number number available party circumstance reply address information hold strictest number confidence number number product available subscriber intend number household child number number product discount retail price number coupon number follow information request mandatory choose provide town state hope opportunity localize offer state town live new york discount ticket theater zoo money saving coupon accommodation catskill know location able well serve subscriber number tell friend wonderful opportunity family save money number subscription request repeat join today start save money number number newsletter schedule deliver week number time christmas shopping number number number number number number number number number\"\n        ],\n        \"semantic_type\": \"\",\n        \"description\": \"\"\n      }\n    },\n    {\n      \"column\": \"length\",\n      \"properties\": {\n        \"dtype\": \"number\",\n        \"std\": 2318,\n        \"min\": 19,\n        \"max\": 16777,\n        \"num_unique_values\": 2083,\n        \"samples\": [\n          1488,\n          10155\n        ],\n        \"semantic_type\": \"\",\n        \"description\": \"\"\n      }\n    }\n  ]\n}"
            }
          },
          "metadata": {},
          "execution_count": 124
        }
      ],
      "source": [
        "#Aqui há uma tentativa de relacionar a label com o tamanho da mensagem, a qual não foi\n",
        "#bem sucedida.\n",
        "\n",
        "data['length'] = data.email.apply(len) #representa o comprimento do tamanho da mensagem\n",
        "data.head()"
      ]
    },
    {
      "cell_type": "markdown",
      "metadata": {
        "id": "nHx6FjrX6NZl"
      },
      "source": [
        "# Tokenização"
      ]
    },
    {
      "cell_type": "code",
      "execution_count": null,
      "metadata": {
        "id": "YH3Dhgum6Lva",
        "colab": {
          "base_uri": "https://localhost:8080/"
        },
        "outputId": "31bdc579-0033-4054-aacf-7662839ebca9"
      },
      "outputs": [
        {
          "output_type": "stream",
          "name": "stdout",
          "text": [
            "725     perceive perform gender perceive perform gende...\n",
            "43      recommendation le font set mac look recommenda...\n",
            "2683    net survey win free trip phonenumber net surve...\n",
            "192     lowland l discussion list year discussion list...\n",
            "291     release agfl home page message announce releas...\n",
            "                              ...                        \n",
            "2672    teach material statistical cl content length n...\n",
            "721     hpsgnumber program international conference he...\n",
            "785     adult ad viva la revolution viva la revolution...\n",
            "258     sociolinguistic phonology phonetic leiden hil ...\n",
            "1181    understand pragmatic update understanding prag...\n",
            "Name: email, Length: 2025, dtype: object\n"
          ]
        }
      ],
      "source": [
        "#Divisão dos dados em conjuntos de treinamento e teste (30% dos dados devem ser reservados para o conjunto de teste)\n",
        "X_train, X_test, y_train, y_test = train_test_split(data.email, data.label, test_size = 0.3, stratify=data.label)\n",
        "\n",
        "print(X_train)"
      ]
    },
    {
      "cell_type": "code",
      "execution_count": null,
      "metadata": {
        "id": "iACoLAta8vDP",
        "colab": {
          "base_uri": "https://localhost:8080/"
        },
        "outputId": "a7fdbcc9-d7ff-47a9-ee65-4c40b01d9a51"
      },
      "outputs": [
        {
          "output_type": "execute_result",
          "data": {
            "text/plain": [
              "array(['aa', 'aaa', 'aaai', ..., 'zwicky', 'zwischen', 'zygmunt'],\n",
              "      dtype=object)"
            ]
          },
          "metadata": {},
          "execution_count": 126
        }
      ],
      "source": [
        "vectorizer = TfidfVectorizer(min_df=3) #os termos (palavras) que aparecem em menos de 3 documentos serão ignorados.\n",
        "\n",
        "X = vectorizer.fit_transform(X_train)\n",
        "\n",
        "vectorizer.get_feature_names_out()"
      ]
    },
    {
      "cell_type": "code",
      "execution_count": null,
      "metadata": {
        "id": "laAMW5dXA4ev",
        "colab": {
          "base_uri": "https://localhost:8080/"
        },
        "outputId": "41665f98-7d89-450d-e1ab-56fb2759eeb2"
      },
      "outputs": [
        {
          "output_type": "stream",
          "name": "stdout",
          "text": [
            "None\n"
          ]
        }
      ],
      "source": [
        "print(vectorizer.get_stop_words())"
      ]
    },
    {
      "cell_type": "code",
      "execution_count": null,
      "metadata": {
        "id": "b7Zc0d4TA-9v",
        "colab": {
          "base_uri": "https://localhost:8080/",
          "height": 444
        },
        "outputId": "e2fc7042-7e34-4fa6-cca0-3a9732c1dca3"
      },
      "outputs": [
        {
          "output_type": "execute_result",
          "data": {
            "text/plain": [
              "       aa  aaa  aaai  aachen  aalborg  aamt  aan  aarhus  aaron  aart  ...  \\\n",
              "0     0.0  0.0   0.0     0.0      0.0   0.0  0.0     0.0    0.0   0.0  ...   \n",
              "1     0.0  0.0   0.0     0.0      0.0   0.0  0.0     0.0    0.0   0.0  ...   \n",
              "2     0.0  0.0   0.0     0.0      0.0   0.0  0.0     0.0    0.0   0.0  ...   \n",
              "3     0.0  0.0   0.0     0.0      0.0   0.0  0.0     0.0    0.0   0.0  ...   \n",
              "4     0.0  0.0   0.0     0.0      0.0   0.0  0.0     0.0    0.0   0.0  ...   \n",
              "...   ...  ...   ...     ...      ...   ...  ...     ...    ...   ...  ...   \n",
              "2020  0.0  0.0   0.0     0.0      0.0   0.0  0.0     0.0    0.0   0.0  ...   \n",
              "2021  0.0  0.0   0.0     0.0      0.0   0.0  0.0     0.0    0.0   0.0  ...   \n",
              "2022  0.0  0.0   0.0     0.0      0.0   0.0  0.0     0.0    0.0   0.0  ...   \n",
              "2023  0.0  0.0   0.0     0.0      0.0   0.0  0.0     0.0    0.0   0.0  ...   \n",
              "2024  0.0  0.0   0.0     0.0      0.0   0.0  0.0     0.0    0.0   0.0  ...   \n",
              "\n",
              "      zubizarreta  zum  zur  zurich  zwart  zwei  zweigenbaum  zwicky  \\\n",
              "0             0.0  0.0  0.0     0.0    0.0   0.0          0.0     0.0   \n",
              "1             0.0  0.0  0.0     0.0    0.0   0.0          0.0     0.0   \n",
              "2             0.0  0.0  0.0     0.0    0.0   0.0          0.0     0.0   \n",
              "3             0.0  0.0  0.0     0.0    0.0   0.0          0.0     0.0   \n",
              "4             0.0  0.0  0.0     0.0    0.0   0.0          0.0     0.0   \n",
              "...           ...  ...  ...     ...    ...   ...          ...     ...   \n",
              "2020          0.0  0.0  0.0     0.0    0.0   0.0          0.0     0.0   \n",
              "2021          0.0  0.0  0.0     0.0    0.0   0.0          0.0     0.0   \n",
              "2022          0.0  0.0  0.0     0.0    0.0   0.0          0.0     0.0   \n",
              "2023          0.0  0.0  0.0     0.0    0.0   0.0          0.0     0.0   \n",
              "2024          0.0  0.0  0.0     0.0    0.0   0.0          0.0     0.0   \n",
              "\n",
              "      zwischen  zygmunt  \n",
              "0          0.0      0.0  \n",
              "1          0.0      0.0  \n",
              "2          0.0      0.0  \n",
              "3          0.0      0.0  \n",
              "4          0.0      0.0  \n",
              "...        ...      ...  \n",
              "2020       0.0      0.0  \n",
              "2021       0.0      0.0  \n",
              "2022       0.0      0.0  \n",
              "2023       0.0      0.0  \n",
              "2024       0.0      0.0  \n",
              "\n",
              "[2025 rows x 12382 columns]"
            ],
            "text/html": [
              "\n",
              "  <div id=\"df-a29964b4-0142-4dd7-9b2c-06d5496bd294\" class=\"colab-df-container\">\n",
              "    <div>\n",
              "<style scoped>\n",
              "    .dataframe tbody tr th:only-of-type {\n",
              "        vertical-align: middle;\n",
              "    }\n",
              "\n",
              "    .dataframe tbody tr th {\n",
              "        vertical-align: top;\n",
              "    }\n",
              "\n",
              "    .dataframe thead th {\n",
              "        text-align: right;\n",
              "    }\n",
              "</style>\n",
              "<table border=\"1\" class=\"dataframe\">\n",
              "  <thead>\n",
              "    <tr style=\"text-align: right;\">\n",
              "      <th></th>\n",
              "      <th>aa</th>\n",
              "      <th>aaa</th>\n",
              "      <th>aaai</th>\n",
              "      <th>aachen</th>\n",
              "      <th>aalborg</th>\n",
              "      <th>aamt</th>\n",
              "      <th>aan</th>\n",
              "      <th>aarhus</th>\n",
              "      <th>aaron</th>\n",
              "      <th>aart</th>\n",
              "      <th>...</th>\n",
              "      <th>zubizarreta</th>\n",
              "      <th>zum</th>\n",
              "      <th>zur</th>\n",
              "      <th>zurich</th>\n",
              "      <th>zwart</th>\n",
              "      <th>zwei</th>\n",
              "      <th>zweigenbaum</th>\n",
              "      <th>zwicky</th>\n",
              "      <th>zwischen</th>\n",
              "      <th>zygmunt</th>\n",
              "    </tr>\n",
              "  </thead>\n",
              "  <tbody>\n",
              "    <tr>\n",
              "      <th>0</th>\n",
              "      <td>0.0</td>\n",
              "      <td>0.0</td>\n",
              "      <td>0.0</td>\n",
              "      <td>0.0</td>\n",
              "      <td>0.0</td>\n",
              "      <td>0.0</td>\n",
              "      <td>0.0</td>\n",
              "      <td>0.0</td>\n",
              "      <td>0.0</td>\n",
              "      <td>0.0</td>\n",
              "      <td>...</td>\n",
              "      <td>0.0</td>\n",
              "      <td>0.0</td>\n",
              "      <td>0.0</td>\n",
              "      <td>0.0</td>\n",
              "      <td>0.0</td>\n",
              "      <td>0.0</td>\n",
              "      <td>0.0</td>\n",
              "      <td>0.0</td>\n",
              "      <td>0.0</td>\n",
              "      <td>0.0</td>\n",
              "    </tr>\n",
              "    <tr>\n",
              "      <th>1</th>\n",
              "      <td>0.0</td>\n",
              "      <td>0.0</td>\n",
              "      <td>0.0</td>\n",
              "      <td>0.0</td>\n",
              "      <td>0.0</td>\n",
              "      <td>0.0</td>\n",
              "      <td>0.0</td>\n",
              "      <td>0.0</td>\n",
              "      <td>0.0</td>\n",
              "      <td>0.0</td>\n",
              "      <td>...</td>\n",
              "      <td>0.0</td>\n",
              "      <td>0.0</td>\n",
              "      <td>0.0</td>\n",
              "      <td>0.0</td>\n",
              "      <td>0.0</td>\n",
              "      <td>0.0</td>\n",
              "      <td>0.0</td>\n",
              "      <td>0.0</td>\n",
              "      <td>0.0</td>\n",
              "      <td>0.0</td>\n",
              "    </tr>\n",
              "    <tr>\n",
              "      <th>2</th>\n",
              "      <td>0.0</td>\n",
              "      <td>0.0</td>\n",
              "      <td>0.0</td>\n",
              "      <td>0.0</td>\n",
              "      <td>0.0</td>\n",
              "      <td>0.0</td>\n",
              "      <td>0.0</td>\n",
              "      <td>0.0</td>\n",
              "      <td>0.0</td>\n",
              "      <td>0.0</td>\n",
              "      <td>...</td>\n",
              "      <td>0.0</td>\n",
              "      <td>0.0</td>\n",
              "      <td>0.0</td>\n",
              "      <td>0.0</td>\n",
              "      <td>0.0</td>\n",
              "      <td>0.0</td>\n",
              "      <td>0.0</td>\n",
              "      <td>0.0</td>\n",
              "      <td>0.0</td>\n",
              "      <td>0.0</td>\n",
              "    </tr>\n",
              "    <tr>\n",
              "      <th>3</th>\n",
              "      <td>0.0</td>\n",
              "      <td>0.0</td>\n",
              "      <td>0.0</td>\n",
              "      <td>0.0</td>\n",
              "      <td>0.0</td>\n",
              "      <td>0.0</td>\n",
              "      <td>0.0</td>\n",
              "      <td>0.0</td>\n",
              "      <td>0.0</td>\n",
              "      <td>0.0</td>\n",
              "      <td>...</td>\n",
              "      <td>0.0</td>\n",
              "      <td>0.0</td>\n",
              "      <td>0.0</td>\n",
              "      <td>0.0</td>\n",
              "      <td>0.0</td>\n",
              "      <td>0.0</td>\n",
              "      <td>0.0</td>\n",
              "      <td>0.0</td>\n",
              "      <td>0.0</td>\n",
              "      <td>0.0</td>\n",
              "    </tr>\n",
              "    <tr>\n",
              "      <th>4</th>\n",
              "      <td>0.0</td>\n",
              "      <td>0.0</td>\n",
              "      <td>0.0</td>\n",
              "      <td>0.0</td>\n",
              "      <td>0.0</td>\n",
              "      <td>0.0</td>\n",
              "      <td>0.0</td>\n",
              "      <td>0.0</td>\n",
              "      <td>0.0</td>\n",
              "      <td>0.0</td>\n",
              "      <td>...</td>\n",
              "      <td>0.0</td>\n",
              "      <td>0.0</td>\n",
              "      <td>0.0</td>\n",
              "      <td>0.0</td>\n",
              "      <td>0.0</td>\n",
              "      <td>0.0</td>\n",
              "      <td>0.0</td>\n",
              "      <td>0.0</td>\n",
              "      <td>0.0</td>\n",
              "      <td>0.0</td>\n",
              "    </tr>\n",
              "    <tr>\n",
              "      <th>...</th>\n",
              "      <td>...</td>\n",
              "      <td>...</td>\n",
              "      <td>...</td>\n",
              "      <td>...</td>\n",
              "      <td>...</td>\n",
              "      <td>...</td>\n",
              "      <td>...</td>\n",
              "      <td>...</td>\n",
              "      <td>...</td>\n",
              "      <td>...</td>\n",
              "      <td>...</td>\n",
              "      <td>...</td>\n",
              "      <td>...</td>\n",
              "      <td>...</td>\n",
              "      <td>...</td>\n",
              "      <td>...</td>\n",
              "      <td>...</td>\n",
              "      <td>...</td>\n",
              "      <td>...</td>\n",
              "      <td>...</td>\n",
              "      <td>...</td>\n",
              "    </tr>\n",
              "    <tr>\n",
              "      <th>2020</th>\n",
              "      <td>0.0</td>\n",
              "      <td>0.0</td>\n",
              "      <td>0.0</td>\n",
              "      <td>0.0</td>\n",
              "      <td>0.0</td>\n",
              "      <td>0.0</td>\n",
              "      <td>0.0</td>\n",
              "      <td>0.0</td>\n",
              "      <td>0.0</td>\n",
              "      <td>0.0</td>\n",
              "      <td>...</td>\n",
              "      <td>0.0</td>\n",
              "      <td>0.0</td>\n",
              "      <td>0.0</td>\n",
              "      <td>0.0</td>\n",
              "      <td>0.0</td>\n",
              "      <td>0.0</td>\n",
              "      <td>0.0</td>\n",
              "      <td>0.0</td>\n",
              "      <td>0.0</td>\n",
              "      <td>0.0</td>\n",
              "    </tr>\n",
              "    <tr>\n",
              "      <th>2021</th>\n",
              "      <td>0.0</td>\n",
              "      <td>0.0</td>\n",
              "      <td>0.0</td>\n",
              "      <td>0.0</td>\n",
              "      <td>0.0</td>\n",
              "      <td>0.0</td>\n",
              "      <td>0.0</td>\n",
              "      <td>0.0</td>\n",
              "      <td>0.0</td>\n",
              "      <td>0.0</td>\n",
              "      <td>...</td>\n",
              "      <td>0.0</td>\n",
              "      <td>0.0</td>\n",
              "      <td>0.0</td>\n",
              "      <td>0.0</td>\n",
              "      <td>0.0</td>\n",
              "      <td>0.0</td>\n",
              "      <td>0.0</td>\n",
              "      <td>0.0</td>\n",
              "      <td>0.0</td>\n",
              "      <td>0.0</td>\n",
              "    </tr>\n",
              "    <tr>\n",
              "      <th>2022</th>\n",
              "      <td>0.0</td>\n",
              "      <td>0.0</td>\n",
              "      <td>0.0</td>\n",
              "      <td>0.0</td>\n",
              "      <td>0.0</td>\n",
              "      <td>0.0</td>\n",
              "      <td>0.0</td>\n",
              "      <td>0.0</td>\n",
              "      <td>0.0</td>\n",
              "      <td>0.0</td>\n",
              "      <td>...</td>\n",
              "      <td>0.0</td>\n",
              "      <td>0.0</td>\n",
              "      <td>0.0</td>\n",
              "      <td>0.0</td>\n",
              "      <td>0.0</td>\n",
              "      <td>0.0</td>\n",
              "      <td>0.0</td>\n",
              "      <td>0.0</td>\n",
              "      <td>0.0</td>\n",
              "      <td>0.0</td>\n",
              "    </tr>\n",
              "    <tr>\n",
              "      <th>2023</th>\n",
              "      <td>0.0</td>\n",
              "      <td>0.0</td>\n",
              "      <td>0.0</td>\n",
              "      <td>0.0</td>\n",
              "      <td>0.0</td>\n",
              "      <td>0.0</td>\n",
              "      <td>0.0</td>\n",
              "      <td>0.0</td>\n",
              "      <td>0.0</td>\n",
              "      <td>0.0</td>\n",
              "      <td>...</td>\n",
              "      <td>0.0</td>\n",
              "      <td>0.0</td>\n",
              "      <td>0.0</td>\n",
              "      <td>0.0</td>\n",
              "      <td>0.0</td>\n",
              "      <td>0.0</td>\n",
              "      <td>0.0</td>\n",
              "      <td>0.0</td>\n",
              "      <td>0.0</td>\n",
              "      <td>0.0</td>\n",
              "    </tr>\n",
              "    <tr>\n",
              "      <th>2024</th>\n",
              "      <td>0.0</td>\n",
              "      <td>0.0</td>\n",
              "      <td>0.0</td>\n",
              "      <td>0.0</td>\n",
              "      <td>0.0</td>\n",
              "      <td>0.0</td>\n",
              "      <td>0.0</td>\n",
              "      <td>0.0</td>\n",
              "      <td>0.0</td>\n",
              "      <td>0.0</td>\n",
              "      <td>...</td>\n",
              "      <td>0.0</td>\n",
              "      <td>0.0</td>\n",
              "      <td>0.0</td>\n",
              "      <td>0.0</td>\n",
              "      <td>0.0</td>\n",
              "      <td>0.0</td>\n",
              "      <td>0.0</td>\n",
              "      <td>0.0</td>\n",
              "      <td>0.0</td>\n",
              "      <td>0.0</td>\n",
              "    </tr>\n",
              "  </tbody>\n",
              "</table>\n",
              "<p>2025 rows × 12382 columns</p>\n",
              "</div>\n",
              "    <div class=\"colab-df-buttons\">\n",
              "\n",
              "  <div class=\"colab-df-container\">\n",
              "    <button class=\"colab-df-convert\" onclick=\"convertToInteractive('df-a29964b4-0142-4dd7-9b2c-06d5496bd294')\"\n",
              "            title=\"Convert this dataframe to an interactive table.\"\n",
              "            style=\"display:none;\">\n",
              "\n",
              "  <svg xmlns=\"http://www.w3.org/2000/svg\" height=\"24px\" viewBox=\"0 -960 960 960\">\n",
              "    <path d=\"M120-120v-720h720v720H120Zm60-500h600v-160H180v160Zm220 220h160v-160H400v160Zm0 220h160v-160H400v160ZM180-400h160v-160H180v160Zm440 0h160v-160H620v160ZM180-180h160v-160H180v160Zm440 0h160v-160H620v160Z\"/>\n",
              "  </svg>\n",
              "    </button>\n",
              "\n",
              "  <style>\n",
              "    .colab-df-container {\n",
              "      display:flex;\n",
              "      gap: 12px;\n",
              "    }\n",
              "\n",
              "    .colab-df-convert {\n",
              "      background-color: #E8F0FE;\n",
              "      border: none;\n",
              "      border-radius: 50%;\n",
              "      cursor: pointer;\n",
              "      display: none;\n",
              "      fill: #1967D2;\n",
              "      height: 32px;\n",
              "      padding: 0 0 0 0;\n",
              "      width: 32px;\n",
              "    }\n",
              "\n",
              "    .colab-df-convert:hover {\n",
              "      background-color: #E2EBFA;\n",
              "      box-shadow: 0px 1px 2px rgba(60, 64, 67, 0.3), 0px 1px 3px 1px rgba(60, 64, 67, 0.15);\n",
              "      fill: #174EA6;\n",
              "    }\n",
              "\n",
              "    .colab-df-buttons div {\n",
              "      margin-bottom: 4px;\n",
              "    }\n",
              "\n",
              "    [theme=dark] .colab-df-convert {\n",
              "      background-color: #3B4455;\n",
              "      fill: #D2E3FC;\n",
              "    }\n",
              "\n",
              "    [theme=dark] .colab-df-convert:hover {\n",
              "      background-color: #434B5C;\n",
              "      box-shadow: 0px 1px 3px 1px rgba(0, 0, 0, 0.15);\n",
              "      filter: drop-shadow(0px 1px 2px rgba(0, 0, 0, 0.3));\n",
              "      fill: #FFFFFF;\n",
              "    }\n",
              "  </style>\n",
              "\n",
              "    <script>\n",
              "      const buttonEl =\n",
              "        document.querySelector('#df-a29964b4-0142-4dd7-9b2c-06d5496bd294 button.colab-df-convert');\n",
              "      buttonEl.style.display =\n",
              "        google.colab.kernel.accessAllowed ? 'block' : 'none';\n",
              "\n",
              "      async function convertToInteractive(key) {\n",
              "        const element = document.querySelector('#df-a29964b4-0142-4dd7-9b2c-06d5496bd294');\n",
              "        const dataTable =\n",
              "          await google.colab.kernel.invokeFunction('convertToInteractive',\n",
              "                                                    [key], {});\n",
              "        if (!dataTable) return;\n",
              "\n",
              "        const docLinkHtml = 'Like what you see? Visit the ' +\n",
              "          '<a target=\"_blank\" href=https://colab.research.google.com/notebooks/data_table.ipynb>data table notebook</a>'\n",
              "          + ' to learn more about interactive tables.';\n",
              "        element.innerHTML = '';\n",
              "        dataTable['output_type'] = 'display_data';\n",
              "        await google.colab.output.renderOutput(dataTable, element);\n",
              "        const docLink = document.createElement('div');\n",
              "        docLink.innerHTML = docLinkHtml;\n",
              "        element.appendChild(docLink);\n",
              "      }\n",
              "    </script>\n",
              "  </div>\n",
              "\n",
              "\n",
              "<div id=\"df-814f4b2e-7ce8-4160-8d15-210793f3671d\">\n",
              "  <button class=\"colab-df-quickchart\" onclick=\"quickchart('df-814f4b2e-7ce8-4160-8d15-210793f3671d')\"\n",
              "            title=\"Suggest charts\"\n",
              "            style=\"display:none;\">\n",
              "\n",
              "<svg xmlns=\"http://www.w3.org/2000/svg\" height=\"24px\"viewBox=\"0 0 24 24\"\n",
              "     width=\"24px\">\n",
              "    <g>\n",
              "        <path d=\"M19 3H5c-1.1 0-2 .9-2 2v14c0 1.1.9 2 2 2h14c1.1 0 2-.9 2-2V5c0-1.1-.9-2-2-2zM9 17H7v-7h2v7zm4 0h-2V7h2v10zm4 0h-2v-4h2v4z\"/>\n",
              "    </g>\n",
              "</svg>\n",
              "  </button>\n",
              "\n",
              "<style>\n",
              "  .colab-df-quickchart {\n",
              "      --bg-color: #E8F0FE;\n",
              "      --fill-color: #1967D2;\n",
              "      --hover-bg-color: #E2EBFA;\n",
              "      --hover-fill-color: #174EA6;\n",
              "      --disabled-fill-color: #AAA;\n",
              "      --disabled-bg-color: #DDD;\n",
              "  }\n",
              "\n",
              "  [theme=dark] .colab-df-quickchart {\n",
              "      --bg-color: #3B4455;\n",
              "      --fill-color: #D2E3FC;\n",
              "      --hover-bg-color: #434B5C;\n",
              "      --hover-fill-color: #FFFFFF;\n",
              "      --disabled-bg-color: #3B4455;\n",
              "      --disabled-fill-color: #666;\n",
              "  }\n",
              "\n",
              "  .colab-df-quickchart {\n",
              "    background-color: var(--bg-color);\n",
              "    border: none;\n",
              "    border-radius: 50%;\n",
              "    cursor: pointer;\n",
              "    display: none;\n",
              "    fill: var(--fill-color);\n",
              "    height: 32px;\n",
              "    padding: 0;\n",
              "    width: 32px;\n",
              "  }\n",
              "\n",
              "  .colab-df-quickchart:hover {\n",
              "    background-color: var(--hover-bg-color);\n",
              "    box-shadow: 0 1px 2px rgba(60, 64, 67, 0.3), 0 1px 3px 1px rgba(60, 64, 67, 0.15);\n",
              "    fill: var(--button-hover-fill-color);\n",
              "  }\n",
              "\n",
              "  .colab-df-quickchart-complete:disabled,\n",
              "  .colab-df-quickchart-complete:disabled:hover {\n",
              "    background-color: var(--disabled-bg-color);\n",
              "    fill: var(--disabled-fill-color);\n",
              "    box-shadow: none;\n",
              "  }\n",
              "\n",
              "  .colab-df-spinner {\n",
              "    border: 2px solid var(--fill-color);\n",
              "    border-color: transparent;\n",
              "    border-bottom-color: var(--fill-color);\n",
              "    animation:\n",
              "      spin 1s steps(1) infinite;\n",
              "  }\n",
              "\n",
              "  @keyframes spin {\n",
              "    0% {\n",
              "      border-color: transparent;\n",
              "      border-bottom-color: var(--fill-color);\n",
              "      border-left-color: var(--fill-color);\n",
              "    }\n",
              "    20% {\n",
              "      border-color: transparent;\n",
              "      border-left-color: var(--fill-color);\n",
              "      border-top-color: var(--fill-color);\n",
              "    }\n",
              "    30% {\n",
              "      border-color: transparent;\n",
              "      border-left-color: var(--fill-color);\n",
              "      border-top-color: var(--fill-color);\n",
              "      border-right-color: var(--fill-color);\n",
              "    }\n",
              "    40% {\n",
              "      border-color: transparent;\n",
              "      border-right-color: var(--fill-color);\n",
              "      border-top-color: var(--fill-color);\n",
              "    }\n",
              "    60% {\n",
              "      border-color: transparent;\n",
              "      border-right-color: var(--fill-color);\n",
              "    }\n",
              "    80% {\n",
              "      border-color: transparent;\n",
              "      border-right-color: var(--fill-color);\n",
              "      border-bottom-color: var(--fill-color);\n",
              "    }\n",
              "    90% {\n",
              "      border-color: transparent;\n",
              "      border-bottom-color: var(--fill-color);\n",
              "    }\n",
              "  }\n",
              "</style>\n",
              "\n",
              "  <script>\n",
              "    async function quickchart(key) {\n",
              "      const quickchartButtonEl =\n",
              "        document.querySelector('#' + key + ' button');\n",
              "      quickchartButtonEl.disabled = true;  // To prevent multiple clicks.\n",
              "      quickchartButtonEl.classList.add('colab-df-spinner');\n",
              "      try {\n",
              "        const charts = await google.colab.kernel.invokeFunction(\n",
              "            'suggestCharts', [key], {});\n",
              "      } catch (error) {\n",
              "        console.error('Error during call to suggestCharts:', error);\n",
              "      }\n",
              "      quickchartButtonEl.classList.remove('colab-df-spinner');\n",
              "      quickchartButtonEl.classList.add('colab-df-quickchart-complete');\n",
              "    }\n",
              "    (() => {\n",
              "      let quickchartButtonEl =\n",
              "        document.querySelector('#df-814f4b2e-7ce8-4160-8d15-210793f3671d button');\n",
              "      quickchartButtonEl.style.display =\n",
              "        google.colab.kernel.accessAllowed ? 'block' : 'none';\n",
              "    })();\n",
              "  </script>\n",
              "</div>\n",
              "    </div>\n",
              "  </div>\n"
            ],
            "application/vnd.google.colaboratory.intrinsic+json": {
              "type": "dataframe"
            }
          },
          "metadata": {},
          "execution_count": 128
        }
      ],
      "source": [
        "pd.DataFrame(X.toarray(), columns=vectorizer.get_feature_names_out())"
      ]
    },
    {
      "cell_type": "markdown",
      "metadata": {
        "id": "5HH_UZXiez3m"
      },
      "source": [
        "# SVM"
      ]
    },
    {
      "cell_type": "code",
      "execution_count": null,
      "metadata": {
        "id": "dV2jqMjSe34h"
      },
      "outputs": [],
      "source": [
        "svm=SVC()"
      ]
    },
    {
      "cell_type": "code",
      "execution_count": null,
      "metadata": {
        "id": "wTZZlbk4fD_6",
        "colab": {
          "base_uri": "https://localhost:8080/",
          "height": 862
        },
        "outputId": "98f18026-b9bf-4071-a2f1-dd90adb52576"
      },
      "outputs": [
        {
          "output_type": "execute_result",
          "data": {
            "text/plain": [
              "    mean_fit_time  std_fit_time  mean_score_time  std_score_time  \\\n",
              "0        1.621142      0.569378         0.870476        0.278953   \n",
              "1        2.650064      0.190057         1.160335        0.014873   \n",
              "2        2.313815      0.263151         0.890379        0.178917   \n",
              "3        0.808063      0.014007         0.373063        0.012808   \n",
              "4        1.042371      0.154074         0.534214        0.075301   \n",
              "5        2.781100      0.318163         1.150712        0.010190   \n",
              "6        2.288421      0.296396         0.943286        0.153912   \n",
              "7        0.780881      0.026946         0.360493        0.008559   \n",
              "8        0.898865      0.006998         0.480463        0.077643   \n",
              "9        2.798017      0.340437         1.255808        0.142635   \n",
              "10       2.325402      0.234838         0.937552        0.172044   \n",
              "11       0.766735      0.018742         0.352297        0.017428   \n",
              "\n",
              "   param_classifier__C param_classifier__kernel  \\\n",
              "0                    1                   linear   \n",
              "1                    1                     poly   \n",
              "2                    1                      rbf   \n",
              "3                    1                  sigmoid   \n",
              "4                    3                   linear   \n",
              "5                    3                     poly   \n",
              "6                    3                      rbf   \n",
              "7                    3                  sigmoid   \n",
              "8                    7                   linear   \n",
              "9                    7                     poly   \n",
              "10                   7                      rbf   \n",
              "11                   7                  sigmoid   \n",
              "\n",
              "                                               params  split0_test_score  \\\n",
              "0   {'classifier__C': 1, 'classifier__kernel': 'li...           0.992552   \n",
              "1   {'classifier__C': 1, 'classifier__kernel': 'po...           0.901168   \n",
              "2   {'classifier__C': 1, 'classifier__kernel': 'rbf'}           0.978782   \n",
              "3   {'classifier__C': 1, 'classifier__kernel': 'si...           0.989534   \n",
              "4   {'classifier__C': 3, 'classifier__kernel': 'li...           0.994053   \n",
              "5   {'classifier__C': 3, 'classifier__kernel': 'po...           0.905175   \n",
              "6   {'classifier__C': 3, 'classifier__kernel': 'rbf'}           0.983427   \n",
              "7   {'classifier__C': 3, 'classifier__kernel': 'si...           0.991046   \n",
              "8   {'classifier__C': 7, 'classifier__kernel': 'li...           0.994053   \n",
              "9   {'classifier__C': 7, 'classifier__kernel': 'po...           0.905175   \n",
              "10  {'classifier__C': 7, 'classifier__kernel': 'rbf'}           0.983427   \n",
              "11  {'classifier__C': 7, 'classifier__kernel': 'si...           0.991079   \n",
              "\n",
              "    split1_test_score  split2_test_score  mean_test_score  std_test_score  \\\n",
              "0            0.986440           0.986495         0.988496        0.002868   \n",
              "1            0.877976           0.864770         0.881305        0.015044   \n",
              "2            0.980257           0.969322         0.976120        0.004845   \n",
              "3            0.986440           0.988018         0.987998        0.001263   \n",
              "4            0.986440           0.991047         0.990513        0.003130   \n",
              "5            0.907157           0.869350         0.893894        0.017374   \n",
              "6            0.983362           0.978787         0.981859        0.002172   \n",
              "7            0.987970           0.992553         0.990523        0.001907   \n",
              "8            0.986440           0.989535         0.990009        0.003126   \n",
              "9            0.907157           0.869350         0.893894        0.017374   \n",
              "10           0.983362           0.978787         0.981859        0.002172   \n",
              "11           0.986493           0.989574         0.989048        0.001909   \n",
              "\n",
              "    rank_test_score  \n",
              "0                 5  \n",
              "1                12  \n",
              "2                 9  \n",
              "3                 6  \n",
              "4                 2  \n",
              "5                10  \n",
              "6                 7  \n",
              "7                 1  \n",
              "8                 3  \n",
              "9                10  \n",
              "10                7  \n",
              "11                4  "
            ],
            "text/html": [
              "\n",
              "  <div id=\"df-a301a8c4-3114-4f8e-8408-9724c35e5f01\" class=\"colab-df-container\">\n",
              "    <div>\n",
              "<style scoped>\n",
              "    .dataframe tbody tr th:only-of-type {\n",
              "        vertical-align: middle;\n",
              "    }\n",
              "\n",
              "    .dataframe tbody tr th {\n",
              "        vertical-align: top;\n",
              "    }\n",
              "\n",
              "    .dataframe thead th {\n",
              "        text-align: right;\n",
              "    }\n",
              "</style>\n",
              "<table border=\"1\" class=\"dataframe\">\n",
              "  <thead>\n",
              "    <tr style=\"text-align: right;\">\n",
              "      <th></th>\n",
              "      <th>mean_fit_time</th>\n",
              "      <th>std_fit_time</th>\n",
              "      <th>mean_score_time</th>\n",
              "      <th>std_score_time</th>\n",
              "      <th>param_classifier__C</th>\n",
              "      <th>param_classifier__kernel</th>\n",
              "      <th>params</th>\n",
              "      <th>split0_test_score</th>\n",
              "      <th>split1_test_score</th>\n",
              "      <th>split2_test_score</th>\n",
              "      <th>mean_test_score</th>\n",
              "      <th>std_test_score</th>\n",
              "      <th>rank_test_score</th>\n",
              "    </tr>\n",
              "  </thead>\n",
              "  <tbody>\n",
              "    <tr>\n",
              "      <th>0</th>\n",
              "      <td>1.621142</td>\n",
              "      <td>0.569378</td>\n",
              "      <td>0.870476</td>\n",
              "      <td>0.278953</td>\n",
              "      <td>1</td>\n",
              "      <td>linear</td>\n",
              "      <td>{'classifier__C': 1, 'classifier__kernel': 'li...</td>\n",
              "      <td>0.992552</td>\n",
              "      <td>0.986440</td>\n",
              "      <td>0.986495</td>\n",
              "      <td>0.988496</td>\n",
              "      <td>0.002868</td>\n",
              "      <td>5</td>\n",
              "    </tr>\n",
              "    <tr>\n",
              "      <th>1</th>\n",
              "      <td>2.650064</td>\n",
              "      <td>0.190057</td>\n",
              "      <td>1.160335</td>\n",
              "      <td>0.014873</td>\n",
              "      <td>1</td>\n",
              "      <td>poly</td>\n",
              "      <td>{'classifier__C': 1, 'classifier__kernel': 'po...</td>\n",
              "      <td>0.901168</td>\n",
              "      <td>0.877976</td>\n",
              "      <td>0.864770</td>\n",
              "      <td>0.881305</td>\n",
              "      <td>0.015044</td>\n",
              "      <td>12</td>\n",
              "    </tr>\n",
              "    <tr>\n",
              "      <th>2</th>\n",
              "      <td>2.313815</td>\n",
              "      <td>0.263151</td>\n",
              "      <td>0.890379</td>\n",
              "      <td>0.178917</td>\n",
              "      <td>1</td>\n",
              "      <td>rbf</td>\n",
              "      <td>{'classifier__C': 1, 'classifier__kernel': 'rbf'}</td>\n",
              "      <td>0.978782</td>\n",
              "      <td>0.980257</td>\n",
              "      <td>0.969322</td>\n",
              "      <td>0.976120</td>\n",
              "      <td>0.004845</td>\n",
              "      <td>9</td>\n",
              "    </tr>\n",
              "    <tr>\n",
              "      <th>3</th>\n",
              "      <td>0.808063</td>\n",
              "      <td>0.014007</td>\n",
              "      <td>0.373063</td>\n",
              "      <td>0.012808</td>\n",
              "      <td>1</td>\n",
              "      <td>sigmoid</td>\n",
              "      <td>{'classifier__C': 1, 'classifier__kernel': 'si...</td>\n",
              "      <td>0.989534</td>\n",
              "      <td>0.986440</td>\n",
              "      <td>0.988018</td>\n",
              "      <td>0.987998</td>\n",
              "      <td>0.001263</td>\n",
              "      <td>6</td>\n",
              "    </tr>\n",
              "    <tr>\n",
              "      <th>4</th>\n",
              "      <td>1.042371</td>\n",
              "      <td>0.154074</td>\n",
              "      <td>0.534214</td>\n",
              "      <td>0.075301</td>\n",
              "      <td>3</td>\n",
              "      <td>linear</td>\n",
              "      <td>{'classifier__C': 3, 'classifier__kernel': 'li...</td>\n",
              "      <td>0.994053</td>\n",
              "      <td>0.986440</td>\n",
              "      <td>0.991047</td>\n",
              "      <td>0.990513</td>\n",
              "      <td>0.003130</td>\n",
              "      <td>2</td>\n",
              "    </tr>\n",
              "    <tr>\n",
              "      <th>5</th>\n",
              "      <td>2.781100</td>\n",
              "      <td>0.318163</td>\n",
              "      <td>1.150712</td>\n",
              "      <td>0.010190</td>\n",
              "      <td>3</td>\n",
              "      <td>poly</td>\n",
              "      <td>{'classifier__C': 3, 'classifier__kernel': 'po...</td>\n",
              "      <td>0.905175</td>\n",
              "      <td>0.907157</td>\n",
              "      <td>0.869350</td>\n",
              "      <td>0.893894</td>\n",
              "      <td>0.017374</td>\n",
              "      <td>10</td>\n",
              "    </tr>\n",
              "    <tr>\n",
              "      <th>6</th>\n",
              "      <td>2.288421</td>\n",
              "      <td>0.296396</td>\n",
              "      <td>0.943286</td>\n",
              "      <td>0.153912</td>\n",
              "      <td>3</td>\n",
              "      <td>rbf</td>\n",
              "      <td>{'classifier__C': 3, 'classifier__kernel': 'rbf'}</td>\n",
              "      <td>0.983427</td>\n",
              "      <td>0.983362</td>\n",
              "      <td>0.978787</td>\n",
              "      <td>0.981859</td>\n",
              "      <td>0.002172</td>\n",
              "      <td>7</td>\n",
              "    </tr>\n",
              "    <tr>\n",
              "      <th>7</th>\n",
              "      <td>0.780881</td>\n",
              "      <td>0.026946</td>\n",
              "      <td>0.360493</td>\n",
              "      <td>0.008559</td>\n",
              "      <td>3</td>\n",
              "      <td>sigmoid</td>\n",
              "      <td>{'classifier__C': 3, 'classifier__kernel': 'si...</td>\n",
              "      <td>0.991046</td>\n",
              "      <td>0.987970</td>\n",
              "      <td>0.992553</td>\n",
              "      <td>0.990523</td>\n",
              "      <td>0.001907</td>\n",
              "      <td>1</td>\n",
              "    </tr>\n",
              "    <tr>\n",
              "      <th>8</th>\n",
              "      <td>0.898865</td>\n",
              "      <td>0.006998</td>\n",
              "      <td>0.480463</td>\n",
              "      <td>0.077643</td>\n",
              "      <td>7</td>\n",
              "      <td>linear</td>\n",
              "      <td>{'classifier__C': 7, 'classifier__kernel': 'li...</td>\n",
              "      <td>0.994053</td>\n",
              "      <td>0.986440</td>\n",
              "      <td>0.989535</td>\n",
              "      <td>0.990009</td>\n",
              "      <td>0.003126</td>\n",
              "      <td>3</td>\n",
              "    </tr>\n",
              "    <tr>\n",
              "      <th>9</th>\n",
              "      <td>2.798017</td>\n",
              "      <td>0.340437</td>\n",
              "      <td>1.255808</td>\n",
              "      <td>0.142635</td>\n",
              "      <td>7</td>\n",
              "      <td>poly</td>\n",
              "      <td>{'classifier__C': 7, 'classifier__kernel': 'po...</td>\n",
              "      <td>0.905175</td>\n",
              "      <td>0.907157</td>\n",
              "      <td>0.869350</td>\n",
              "      <td>0.893894</td>\n",
              "      <td>0.017374</td>\n",
              "      <td>10</td>\n",
              "    </tr>\n",
              "    <tr>\n",
              "      <th>10</th>\n",
              "      <td>2.325402</td>\n",
              "      <td>0.234838</td>\n",
              "      <td>0.937552</td>\n",
              "      <td>0.172044</td>\n",
              "      <td>7</td>\n",
              "      <td>rbf</td>\n",
              "      <td>{'classifier__C': 7, 'classifier__kernel': 'rbf'}</td>\n",
              "      <td>0.983427</td>\n",
              "      <td>0.983362</td>\n",
              "      <td>0.978787</td>\n",
              "      <td>0.981859</td>\n",
              "      <td>0.002172</td>\n",
              "      <td>7</td>\n",
              "    </tr>\n",
              "    <tr>\n",
              "      <th>11</th>\n",
              "      <td>0.766735</td>\n",
              "      <td>0.018742</td>\n",
              "      <td>0.352297</td>\n",
              "      <td>0.017428</td>\n",
              "      <td>7</td>\n",
              "      <td>sigmoid</td>\n",
              "      <td>{'classifier__C': 7, 'classifier__kernel': 'si...</td>\n",
              "      <td>0.991079</td>\n",
              "      <td>0.986493</td>\n",
              "      <td>0.989574</td>\n",
              "      <td>0.989048</td>\n",
              "      <td>0.001909</td>\n",
              "      <td>4</td>\n",
              "    </tr>\n",
              "  </tbody>\n",
              "</table>\n",
              "</div>\n",
              "    <div class=\"colab-df-buttons\">\n",
              "\n",
              "  <div class=\"colab-df-container\">\n",
              "    <button class=\"colab-df-convert\" onclick=\"convertToInteractive('df-a301a8c4-3114-4f8e-8408-9724c35e5f01')\"\n",
              "            title=\"Convert this dataframe to an interactive table.\"\n",
              "            style=\"display:none;\">\n",
              "\n",
              "  <svg xmlns=\"http://www.w3.org/2000/svg\" height=\"24px\" viewBox=\"0 -960 960 960\">\n",
              "    <path d=\"M120-120v-720h720v720H120Zm60-500h600v-160H180v160Zm220 220h160v-160H400v160Zm0 220h160v-160H400v160ZM180-400h160v-160H180v160Zm440 0h160v-160H620v160ZM180-180h160v-160H180v160Zm440 0h160v-160H620v160Z\"/>\n",
              "  </svg>\n",
              "    </button>\n",
              "\n",
              "  <style>\n",
              "    .colab-df-container {\n",
              "      display:flex;\n",
              "      gap: 12px;\n",
              "    }\n",
              "\n",
              "    .colab-df-convert {\n",
              "      background-color: #E8F0FE;\n",
              "      border: none;\n",
              "      border-radius: 50%;\n",
              "      cursor: pointer;\n",
              "      display: none;\n",
              "      fill: #1967D2;\n",
              "      height: 32px;\n",
              "      padding: 0 0 0 0;\n",
              "      width: 32px;\n",
              "    }\n",
              "\n",
              "    .colab-df-convert:hover {\n",
              "      background-color: #E2EBFA;\n",
              "      box-shadow: 0px 1px 2px rgba(60, 64, 67, 0.3), 0px 1px 3px 1px rgba(60, 64, 67, 0.15);\n",
              "      fill: #174EA6;\n",
              "    }\n",
              "\n",
              "    .colab-df-buttons div {\n",
              "      margin-bottom: 4px;\n",
              "    }\n",
              "\n",
              "    [theme=dark] .colab-df-convert {\n",
              "      background-color: #3B4455;\n",
              "      fill: #D2E3FC;\n",
              "    }\n",
              "\n",
              "    [theme=dark] .colab-df-convert:hover {\n",
              "      background-color: #434B5C;\n",
              "      box-shadow: 0px 1px 3px 1px rgba(0, 0, 0, 0.15);\n",
              "      filter: drop-shadow(0px 1px 2px rgba(0, 0, 0, 0.3));\n",
              "      fill: #FFFFFF;\n",
              "    }\n",
              "  </style>\n",
              "\n",
              "    <script>\n",
              "      const buttonEl =\n",
              "        document.querySelector('#df-a301a8c4-3114-4f8e-8408-9724c35e5f01 button.colab-df-convert');\n",
              "      buttonEl.style.display =\n",
              "        google.colab.kernel.accessAllowed ? 'block' : 'none';\n",
              "\n",
              "      async function convertToInteractive(key) {\n",
              "        const element = document.querySelector('#df-a301a8c4-3114-4f8e-8408-9724c35e5f01');\n",
              "        const dataTable =\n",
              "          await google.colab.kernel.invokeFunction('convertToInteractive',\n",
              "                                                    [key], {});\n",
              "        if (!dataTable) return;\n",
              "\n",
              "        const docLinkHtml = 'Like what you see? Visit the ' +\n",
              "          '<a target=\"_blank\" href=https://colab.research.google.com/notebooks/data_table.ipynb>data table notebook</a>'\n",
              "          + ' to learn more about interactive tables.';\n",
              "        element.innerHTML = '';\n",
              "        dataTable['output_type'] = 'display_data';\n",
              "        await google.colab.output.renderOutput(dataTable, element);\n",
              "        const docLink = document.createElement('div');\n",
              "        docLink.innerHTML = docLinkHtml;\n",
              "        element.appendChild(docLink);\n",
              "      }\n",
              "    </script>\n",
              "  </div>\n",
              "\n",
              "\n",
              "<div id=\"df-b21cb559-633b-4c57-8ac3-d3d463abdea2\">\n",
              "  <button class=\"colab-df-quickchart\" onclick=\"quickchart('df-b21cb559-633b-4c57-8ac3-d3d463abdea2')\"\n",
              "            title=\"Suggest charts\"\n",
              "            style=\"display:none;\">\n",
              "\n",
              "<svg xmlns=\"http://www.w3.org/2000/svg\" height=\"24px\"viewBox=\"0 0 24 24\"\n",
              "     width=\"24px\">\n",
              "    <g>\n",
              "        <path d=\"M19 3H5c-1.1 0-2 .9-2 2v14c0 1.1.9 2 2 2h14c1.1 0 2-.9 2-2V5c0-1.1-.9-2-2-2zM9 17H7v-7h2v7zm4 0h-2V7h2v10zm4 0h-2v-4h2v4z\"/>\n",
              "    </g>\n",
              "</svg>\n",
              "  </button>\n",
              "\n",
              "<style>\n",
              "  .colab-df-quickchart {\n",
              "      --bg-color: #E8F0FE;\n",
              "      --fill-color: #1967D2;\n",
              "      --hover-bg-color: #E2EBFA;\n",
              "      --hover-fill-color: #174EA6;\n",
              "      --disabled-fill-color: #AAA;\n",
              "      --disabled-bg-color: #DDD;\n",
              "  }\n",
              "\n",
              "  [theme=dark] .colab-df-quickchart {\n",
              "      --bg-color: #3B4455;\n",
              "      --fill-color: #D2E3FC;\n",
              "      --hover-bg-color: #434B5C;\n",
              "      --hover-fill-color: #FFFFFF;\n",
              "      --disabled-bg-color: #3B4455;\n",
              "      --disabled-fill-color: #666;\n",
              "  }\n",
              "\n",
              "  .colab-df-quickchart {\n",
              "    background-color: var(--bg-color);\n",
              "    border: none;\n",
              "    border-radius: 50%;\n",
              "    cursor: pointer;\n",
              "    display: none;\n",
              "    fill: var(--fill-color);\n",
              "    height: 32px;\n",
              "    padding: 0;\n",
              "    width: 32px;\n",
              "  }\n",
              "\n",
              "  .colab-df-quickchart:hover {\n",
              "    background-color: var(--hover-bg-color);\n",
              "    box-shadow: 0 1px 2px rgba(60, 64, 67, 0.3), 0 1px 3px 1px rgba(60, 64, 67, 0.15);\n",
              "    fill: var(--button-hover-fill-color);\n",
              "  }\n",
              "\n",
              "  .colab-df-quickchart-complete:disabled,\n",
              "  .colab-df-quickchart-complete:disabled:hover {\n",
              "    background-color: var(--disabled-bg-color);\n",
              "    fill: var(--disabled-fill-color);\n",
              "    box-shadow: none;\n",
              "  }\n",
              "\n",
              "  .colab-df-spinner {\n",
              "    border: 2px solid var(--fill-color);\n",
              "    border-color: transparent;\n",
              "    border-bottom-color: var(--fill-color);\n",
              "    animation:\n",
              "      spin 1s steps(1) infinite;\n",
              "  }\n",
              "\n",
              "  @keyframes spin {\n",
              "    0% {\n",
              "      border-color: transparent;\n",
              "      border-bottom-color: var(--fill-color);\n",
              "      border-left-color: var(--fill-color);\n",
              "    }\n",
              "    20% {\n",
              "      border-color: transparent;\n",
              "      border-left-color: var(--fill-color);\n",
              "      border-top-color: var(--fill-color);\n",
              "    }\n",
              "    30% {\n",
              "      border-color: transparent;\n",
              "      border-left-color: var(--fill-color);\n",
              "      border-top-color: var(--fill-color);\n",
              "      border-right-color: var(--fill-color);\n",
              "    }\n",
              "    40% {\n",
              "      border-color: transparent;\n",
              "      border-right-color: var(--fill-color);\n",
              "      border-top-color: var(--fill-color);\n",
              "    }\n",
              "    60% {\n",
              "      border-color: transparent;\n",
              "      border-right-color: var(--fill-color);\n",
              "    }\n",
              "    80% {\n",
              "      border-color: transparent;\n",
              "      border-right-color: var(--fill-color);\n",
              "      border-bottom-color: var(--fill-color);\n",
              "    }\n",
              "    90% {\n",
              "      border-color: transparent;\n",
              "      border-bottom-color: var(--fill-color);\n",
              "    }\n",
              "  }\n",
              "</style>\n",
              "\n",
              "  <script>\n",
              "    async function quickchart(key) {\n",
              "      const quickchartButtonEl =\n",
              "        document.querySelector('#' + key + ' button');\n",
              "      quickchartButtonEl.disabled = true;  // To prevent multiple clicks.\n",
              "      quickchartButtonEl.classList.add('colab-df-spinner');\n",
              "      try {\n",
              "        const charts = await google.colab.kernel.invokeFunction(\n",
              "            'suggestCharts', [key], {});\n",
              "      } catch (error) {\n",
              "        console.error('Error during call to suggestCharts:', error);\n",
              "      }\n",
              "      quickchartButtonEl.classList.remove('colab-df-spinner');\n",
              "      quickchartButtonEl.classList.add('colab-df-quickchart-complete');\n",
              "    }\n",
              "    (() => {\n",
              "      let quickchartButtonEl =\n",
              "        document.querySelector('#df-b21cb559-633b-4c57-8ac3-d3d463abdea2 button');\n",
              "      quickchartButtonEl.style.display =\n",
              "        google.colab.kernel.accessAllowed ? 'block' : 'none';\n",
              "    })();\n",
              "  </script>\n",
              "</div>\n",
              "    </div>\n",
              "  </div>\n"
            ],
            "application/vnd.google.colaboratory.intrinsic+json": {
              "type": "dataframe",
              "variable_name": "df",
              "summary": "{\n  \"name\": \"df\",\n  \"rows\": 12,\n  \"fields\": [\n    {\n      \"column\": \"mean_fit_time\",\n      \"properties\": {\n        \"dtype\": \"number\",\n        \"std\": 0.8498689175113256,\n        \"min\": 0.7667346000671387,\n        \"max\": 2.7980165481567383,\n        \"num_unique_values\": 12,\n        \"samples\": [\n          2.325401782989502,\n          2.7980165481567383,\n          1.621142069498698\n        ],\n        \"semantic_type\": \"\",\n        \"description\": \"\"\n      }\n    },\n    {\n      \"column\": \"std_fit_time\",\n      \"properties\": {\n        \"dtype\": \"number\",\n        \"std\": 0.17092812577167646,\n        \"min\": 0.006997701190658127,\n        \"max\": 0.569378424690957,\n        \"num_unique_values\": 12,\n        \"samples\": [\n          0.23483775780999486,\n          0.3404365666524162,\n          0.569378424690957\n        ],\n        \"semantic_type\": \"\",\n        \"description\": \"\"\n      }\n    },\n    {\n      \"column\": \"mean_score_time\",\n      \"properties\": {\n        \"dtype\": \"number\",\n        \"std\": 0.3377412812461601,\n        \"min\": 0.3522968292236328,\n        \"max\": 1.2558077176411946,\n        \"num_unique_values\": 12,\n        \"samples\": [\n          0.937552293141683,\n          1.2558077176411946,\n          0.8704756100972494\n        ],\n        \"semantic_type\": \"\",\n        \"description\": \"\"\n      }\n    },\n    {\n      \"column\": \"std_score_time\",\n      \"properties\": {\n        \"dtype\": \"number\",\n        \"std\": 0.08898564911000688,\n        \"min\": 0.008558532462488572,\n        \"max\": 0.27895290989344396,\n        \"num_unique_values\": 12,\n        \"samples\": [\n          0.17204433598629862,\n          0.14263526369649993,\n          0.27895290989344396\n        ],\n        \"semantic_type\": \"\",\n        \"description\": \"\"\n      }\n    },\n    {\n      \"column\": \"param_classifier__C\",\n      \"properties\": {\n        \"dtype\": \"date\",\n        \"min\": 1,\n        \"max\": 7,\n        \"num_unique_values\": 3,\n        \"samples\": [\n          1,\n          3,\n          7\n        ],\n        \"semantic_type\": \"\",\n        \"description\": \"\"\n      }\n    },\n    {\n      \"column\": \"param_classifier__kernel\",\n      \"properties\": {\n        \"dtype\": \"category\",\n        \"num_unique_values\": 4,\n        \"samples\": [\n          \"poly\",\n          \"sigmoid\",\n          \"linear\"\n        ],\n        \"semantic_type\": \"\",\n        \"description\": \"\"\n      }\n    },\n    {\n      \"column\": \"params\",\n      \"properties\": {\n        \"dtype\": \"object\",\n        \"semantic_type\": \"\",\n        \"description\": \"\"\n      }\n    },\n    {\n      \"column\": \"split0_test_score\",\n      \"properties\": {\n        \"dtype\": \"number\",\n        \"std\": 0.038655773038857325,\n        \"min\": 0.9011675229446313,\n        \"max\": 0.9940526341944781,\n        \"num_unique_values\": 9,\n        \"samples\": [\n          0.9910460355770091,\n          0.9011675229446313,\n          0.905175158237764\n        ],\n        \"semantic_type\": \"\",\n        \"description\": \"\"\n      }\n    },\n    {\n      \"column\": \"split1_test_score\",\n      \"properties\": {\n        \"dtype\": \"number\",\n        \"std\": 0.04041283035196398,\n        \"min\": 0.8779762751008533,\n        \"max\": 0.9879704748840551,\n        \"num_unique_values\": 7,\n        \"samples\": [\n          0.9864404603353482,\n          0.8779762751008533,\n          0.9879704748840551\n        ],\n        \"semantic_type\": \"\",\n        \"description\": \"\"\n      }\n    },\n    {\n      \"column\": \"split2_test_score\",\n      \"properties\": {\n        \"dtype\": \"number\",\n        \"std\": 0.05336419776330617,\n        \"min\": 0.8647701880583586,\n        \"max\": 0.9925526259982991,\n        \"num_unique_values\": 10,\n        \"samples\": [\n          0.989535281366678,\n          0.8647701880583586,\n          0.8693495539866368\n        ],\n        \"semantic_type\": \"\",\n        \"description\": \"\"\n      }\n    },\n    {\n      \"column\": \"mean_test_score\",\n      \"properties\": {\n        \"dtype\": \"number\",\n        \"std\": 0.044001207263901505,\n        \"min\": 0.8813046620346144,\n        \"max\": 0.9905230454864545,\n        \"num_unique_values\": 10,\n        \"samples\": [\n          0.990009458632168,\n          0.8813046620346144,\n          0.8938939115734817\n        ],\n        \"semantic_type\": \"\",\n        \"description\": \"\"\n      }\n    },\n    {\n      \"column\": \"std_test_score\",\n      \"properties\": {\n        \"dtype\": \"number\",\n        \"std\": 0.006419497319767871,\n        \"min\": 0.0012630842597086951,\n        \"max\": 0.017374330941511452,\n        \"num_unique_values\": 10,\n        \"samples\": [\n          0.0031256925392341467,\n          0.015044381374043382,\n          0.017374330941511452\n        ],\n        \"semantic_type\": \"\",\n        \"description\": \"\"\n      }\n    },\n    {\n      \"column\": \"rank_test_score\",\n      \"properties\": {\n        \"dtype\": \"int32\",\n        \"num_unique_values\": 10,\n        \"samples\": [\n          3,\n          12,\n          10\n        ],\n        \"semantic_type\": \"\",\n        \"description\": \"\"\n      }\n    }\n  ]\n}"
            }
          },
          "metadata": {},
          "execution_count": 130
        }
      ],
      "source": [
        "pipe = Pipeline(steps=[(\"vectorizer\", vectorizer), (\"classifier\", svm)])\n",
        "\n",
        "param_grid = {\"classifier__kernel\":['linear', 'poly', 'rbf', 'sigmoid'], \"classifier__C\":[1, 3, 7]}\n",
        "\n",
        "best_svm = GridSearchCV(pipe, param_grid, scoring=('f1_weighted'), cv=3)\n",
        "\n",
        "model_svm = best_svm.fit(X_train, y_train)\n",
        "\n",
        "df = pd.DataFrame(best_svm.cv_results_)\n",
        "\n",
        "df"
      ]
    },
    {
      "cell_type": "code",
      "execution_count": null,
      "metadata": {
        "id": "hHz2I_2RfGiM",
        "colab": {
          "base_uri": "https://localhost:8080/"
        },
        "outputId": "4aa48129-129f-45d5-aec5-d4c4fc90c8c8"
      },
      "outputs": [
        {
          "output_type": "execute_result",
          "data": {
            "text/plain": [
              "{'classifier__C': 3, 'classifier__kernel': 'sigmoid'}"
            ]
          },
          "metadata": {},
          "execution_count": 131
        }
      ],
      "source": [
        "best_svm.best_params_"
      ]
    },
    {
      "cell_type": "code",
      "execution_count": null,
      "metadata": {
        "id": "_Nxpfw2IfJPV",
        "colab": {
          "base_uri": "https://localhost:8080/"
        },
        "outputId": "65cffcdc-74e6-4473-a1b4-9adf63ffd54b"
      },
      "outputs": [
        {
          "output_type": "execute_result",
          "data": {
            "text/plain": [
              "array([[724,   0],\n",
              "       [  1, 143]])"
            ]
          },
          "metadata": {},
          "execution_count": 132
        }
      ],
      "source": [
        "y_pred = model_svm.predict(X_test)\n",
        "\n",
        "matrix = confusion_matrix(y_test, y_pred)\n",
        "\n",
        "matrix"
      ]
    },
    {
      "cell_type": "code",
      "execution_count": null,
      "metadata": {
        "id": "yXDipIyxfZqD",
        "colab": {
          "base_uri": "https://localhost:8080/",
          "height": 466
        },
        "outputId": "1adeb617-f017-4569-8c2a-f0835958b669"
      },
      "outputs": [
        {
          "output_type": "execute_result",
          "data": {
            "text/plain": [
              "Text(50.722222222222214, 0.5, 'Truth')"
            ]
          },
          "metadata": {},
          "execution_count": 133
        },
        {
          "output_type": "display_data",
          "data": {
            "text/plain": [
              "<Figure size 640x480 with 2 Axes>"
            ],
            "image/png": "[encoded data removed]"
          },
          "metadata": {}
        }
      ],
      "source": [
        "# Criando um heatmap para melhor visualização\n",
        "\n",
        "plt.figure()\n",
        "sns.heatmap(matrix, annot=True, fmt='g')\n",
        "plt.xlabel(\"Predict\")\n",
        "plt.ylabel(\"Truth\")"
      ]
    },
    {
      "cell_type": "code",
      "execution_count": null,
      "metadata": {
        "id": "WtkQ4L_mgGVX",
        "colab": {
          "base_uri": "https://localhost:8080/"
        },
        "outputId": "86f3ba01-0aa4-433e-a0fa-55eb9e3c7401"
      },
      "outputs": [
        {
          "output_type": "stream",
          "name": "stdout",
          "text": [
            "Accuracy:  0.9988479262672811\n",
            "Precision:  0.9988559267793139\n",
            "Recall:  0.9988479262672811\n",
            "F1 Score:  0.998849535823406\n"
          ]
        }
      ],
      "source": [
        "print(\"Accuracy: \", accuracy_score(y_pred,y_test))\n",
        "print(\"Precision: \", precision_score(y_pred,y_test, average = 'weighted'))\n",
        "print(\"Recall: \", recall_score(y_pred,y_test, average = 'weighted'))\n",
        "print(\"F1 Score: \", f1_score(y_pred,y_test, average = 'weighted'))"
      ]
    },
    {
      "cell_type": "markdown",
      "metadata": {
        "id": "h6pp-Mxpfgwq"
      },
      "source": [
        "# Naive Bayes"
      ]
    },
    {
      "cell_type": "code",
      "execution_count": null,
      "metadata": {
        "id": "AHqCSmrTfbcT"
      },
      "outputs": [],
      "source": [
        "nb = MultinomialNB()"
      ]
    },
    {
      "cell_type": "code",
      "execution_count": null,
      "metadata": {
        "id": "-AkC6FjYfoWT"
      },
      "outputs": [],
      "source": [
        "pipe = Pipeline([('vectorizer',vectorizer),('classifier',nb)])\n",
        "model_nb = pipe.fit(X_train,y_train)"
      ]
    },
    {
      "cell_type": "code",
      "execution_count": null,
      "metadata": {
        "id": "sx7dpRg9fsvR",
        "colab": {
          "base_uri": "https://localhost:8080/"
        },
        "outputId": "fab875e8-432b-4113-c060-f2f4036b3cd1"
      },
      "outputs": [
        {
          "output_type": "execute_result",
          "data": {
            "text/plain": [
              "array([[724,   0],\n",
              "       [ 26, 118]])"
            ]
          },
          "metadata": {},
          "execution_count": 137
        }
      ],
      "source": [
        "y_pred = model_nb.predict(X_test)\n",
        "\n",
        "matrix = confusion_matrix(y_test, y_pred)\n",
        "\n",
        "matrix"
      ]
    },
    {
      "cell_type": "code",
      "execution_count": null,
      "metadata": {
        "id": "UNQ5DRSsfvS7",
        "colab": {
          "base_uri": "https://localhost:8080/",
          "height": 466
        },
        "outputId": "eb26db3e-a85e-4389-a72e-c4474e3594e0"
      },
      "outputs": [
        {
          "output_type": "execute_result",
          "data": {
            "text/plain": [
              "Text(50.722222222222214, 0.5, 'Truth')"
            ]
          },
          "metadata": {},
          "execution_count": 138
        },
        {
          "output_type": "display_data",
          "data": {
            "text/plain": [
              "<Figure size 640x480 with 2 Axes>"
            ],
            "image/png": "[encoded data removed]"
          },
          "metadata": {}
        }
      ],
      "source": [
        "# Criando um heatmap para melhor visualização\n",
        "\n",
        "plt.figure()\n",
        "sns.heatmap(matrix, annot=True, fmt='g')\n",
        "plt.xlabel(\"Predict\")\n",
        "plt.ylabel(\"Truth\")"
      ]
    },
    {
      "cell_type": "code",
      "execution_count": null,
      "metadata": {
        "id": "wfOGuhlnf5af",
        "colab": {
          "base_uri": "https://localhost:8080/"
        },
        "outputId": "3d43eb14-d80c-407e-da03-8d99fdf7e127"
      },
      "outputs": [
        {
          "output_type": "stream",
          "name": "stdout",
          "text": [
            "Accuracy:  0.9700460829493087\n",
            "Precision:  0.9754544290834614\n",
            "Recall:  0.9700460829493087\n",
            "F1 Score:  0.9712681662793208\n"
          ]
        }
      ],
      "source": [
        "print(\"Accuracy: \", accuracy_score(y_pred,y_test))\n",
        "print(\"Precision: \", precision_score(y_pred,y_test, average = 'weighted'))\n",
        "print(\"Recall: \", recall_score(y_pred,y_test, average = 'weighted'))\n",
        "print(\"F1 Score: \", f1_score(y_pred,y_test, average = 'weighted'))"
      ]
    },
    {
      "cell_type": "markdown",
      "metadata": {
        "id": "iuNw2nZ9gKFp"
      },
      "source": [
        "# KNN"
      ]
    },
    {
      "cell_type": "code",
      "execution_count": null,
      "metadata": {
        "id": "8ZNizE95gMQL"
      },
      "outputs": [],
      "source": [
        "knn = KNeighborsClassifier()"
      ]
    },
    {
      "cell_type": "code",
      "execution_count": null,
      "metadata": {
        "id": "B10b-99LgOfV",
        "colab": {
          "base_uri": "https://localhost:8080/",
          "height": 459
        },
        "outputId": "619c6649-1988-4dda-d045-358b40ad4455"
      },
      "outputs": [
        {
          "output_type": "execute_result",
          "data": {
            "text/plain": [
              "   mean_fit_time  std_fit_time  mean_score_time  std_score_time  \\\n",
              "0       0.336381      0.002197         0.609666        0.002004   \n",
              "1       0.439652      0.126834        17.990383        0.623985   \n",
              "2       0.337249      0.002468         0.613754        0.002274   \n",
              "3       0.338660      0.004073        17.370510        0.246078   \n",
              "4       0.625316      0.004625         0.882390        0.099713   \n",
              "5       0.351616      0.014677        17.268707        0.130214   \n",
              "6       0.340314      0.000948         0.639630        0.048020   \n",
              "7       0.438432      0.113249        18.741797        2.028463   \n",
              "\n",
              "  param_classifier__n_neighbors param_classifier__p  \\\n",
              "0                             1                   1   \n",
              "1                             1                   2   \n",
              "2                             3                   1   \n",
              "3                             3                   2   \n",
              "4                             5                   1   \n",
              "5                             5                   2   \n",
              "6                             7                   1   \n",
              "7                             7                   2   \n",
              "\n",
              "                                              params  split0_test_score  \\\n",
              "0  {'classifier__n_neighbors': 1, 'classifier__p'...           0.758617   \n",
              "1  {'classifier__n_neighbors': 1, 'classifier__p'...           0.943277   \n",
              "2  {'classifier__n_neighbors': 3, 'classifier__p'...           0.758617   \n",
              "3  {'classifier__n_neighbors': 3, 'classifier__p'...           0.958348   \n",
              "4  {'classifier__n_neighbors': 5, 'classifier__p'...           0.758617   \n",
              "5  {'classifier__n_neighbors': 5, 'classifier__p'...           0.966447   \n",
              "6  {'classifier__n_neighbors': 7, 'classifier__p'...           0.758617   \n",
              "7  {'classifier__n_neighbors': 7, 'classifier__p'...           0.964693   \n",
              "\n",
              "   split1_test_score  split2_test_score  mean_test_score  std_test_score  \\\n",
              "0           0.760644           0.756535         0.758599        0.001677   \n",
              "1           0.927552           0.945168         0.938666        0.007896   \n",
              "2           0.070270           0.756535         0.528474        0.324000   \n",
              "3           0.901406           0.911341         0.923698        0.024834   \n",
              "4           0.047227           0.756535         0.520793        0.334863   \n",
              "5           0.885185           0.934699         0.928777        0.033438   \n",
              "6           0.050244           0.756535         0.521799        0.333440   \n",
              "7           0.957831           0.972537         0.965020        0.006009   \n",
              "\n",
              "   rank_test_score  \n",
              "0                5  \n",
              "1                2  \n",
              "2                6  \n",
              "3                4  \n",
              "4                8  \n",
              "5                3  \n",
              "6                7  \n",
              "7                1  "
            ],
            "text/html": [
              "\n",
              "  <div id=\"df-022b1b57-90cc-4c60-9e57-acdd8e20c8b6\" class=\"colab-df-container\">\n",
              "    <div>\n",
              "<style scoped>\n",
              "    .dataframe tbody tr th:only-of-type {\n",
              "        vertical-align: middle;\n",
              "    }\n",
              "\n",
              "    .dataframe tbody tr th {\n",
              "        vertical-align: top;\n",
              "    }\n",
              "\n",
              "    .dataframe thead th {\n",
              "        text-align: right;\n",
              "    }\n",
              "</style>\n",
              "<table border=\"1\" class=\"dataframe\">\n",
              "  <thead>\n",
              "    <tr style=\"text-align: right;\">\n",
              "      <th></th>\n",
              "      <th>mean_fit_time</th>\n",
              "      <th>std_fit_time</th>\n",
              "      <th>mean_score_time</th>\n",
              "      <th>std_score_time</th>\n",
              "      <th>param_classifier__n_neighbors</th>\n",
              "      <th>param_classifier__p</th>\n",
              "      <th>params</th>\n",
              "      <th>split0_test_score</th>\n",
              "      <th>split1_test_score</th>\n",
              "      <th>split2_test_score</th>\n",
              "      <th>mean_test_score</th>\n",
              "      <th>std_test_score</th>\n",
              "      <th>rank_test_score</th>\n",
              "    </tr>\n",
              "  </thead>\n",
              "  <tbody>\n",
              "    <tr>\n",
              "      <th>0</th>\n",
              "      <td>0.336381</td>\n",
              "      <td>0.002197</td>\n",
              "      <td>0.609666</td>\n",
              "      <td>0.002004</td>\n",
              "      <td>1</td>\n",
              "      <td>1</td>\n",
              "      <td>{'classifier__n_neighbors': 1, 'classifier__p'...</td>\n",
              "      <td>0.758617</td>\n",
              "      <td>0.760644</td>\n",
              "      <td>0.756535</td>\n",
              "      <td>0.758599</td>\n",
              "      <td>0.001677</td>\n",
              "      <td>5</td>\n",
              "    </tr>\n",
              "    <tr>\n",
              "      <th>1</th>\n",
              "      <td>0.439652</td>\n",
              "      <td>0.126834</td>\n",
              "      <td>17.990383</td>\n",
              "      <td>0.623985</td>\n",
              "      <td>1</td>\n",
              "      <td>2</td>\n",
              "      <td>{'classifier__n_neighbors': 1, 'classifier__p'...</td>\n",
              "      <td>0.943277</td>\n",
              "      <td>0.927552</td>\n",
              "      <td>0.945168</td>\n",
              "      <td>0.938666</td>\n",
              "      <td>0.007896</td>\n",
              "      <td>2</td>\n",
              "    </tr>\n",
              "    <tr>\n",
              "      <th>2</th>\n",
              "      <td>0.337249</td>\n",
              "      <td>0.002468</td>\n",
              "      <td>0.613754</td>\n",
              "      <td>0.002274</td>\n",
              "      <td>3</td>\n",
              "      <td>1</td>\n",
              "      <td>{'classifier__n_neighbors': 3, 'classifier__p'...</td>\n",
              "      <td>0.758617</td>\n",
              "      <td>0.070270</td>\n",
              "      <td>0.756535</td>\n",
              "      <td>0.528474</td>\n",
              "      <td>0.324000</td>\n",
              "      <td>6</td>\n",
              "    </tr>\n",
              "    <tr>\n",
              "      <th>3</th>\n",
              "      <td>0.338660</td>\n",
              "      <td>0.004073</td>\n",
              "      <td>17.370510</td>\n",
              "      <td>0.246078</td>\n",
              "      <td>3</td>\n",
              "      <td>2</td>\n",
              "      <td>{'classifier__n_neighbors': 3, 'classifier__p'...</td>\n",
              "      <td>0.958348</td>\n",
              "      <td>0.901406</td>\n",
              "      <td>0.911341</td>\n",
              "      <td>0.923698</td>\n",
              "      <td>0.024834</td>\n",
              "      <td>4</td>\n",
              "    </tr>\n",
              "    <tr>\n",
              "      <th>4</th>\n",
              "      <td>0.625316</td>\n",
              "      <td>0.004625</td>\n",
              "      <td>0.882390</td>\n",
              "      <td>0.099713</td>\n",
              "      <td>5</td>\n",
              "      <td>1</td>\n",
              "      <td>{'classifier__n_neighbors': 5, 'classifier__p'...</td>\n",
              "      <td>0.758617</td>\n",
              "      <td>0.047227</td>\n",
              "      <td>0.756535</td>\n",
              "      <td>0.520793</td>\n",
              "      <td>0.334863</td>\n",
              "      <td>8</td>\n",
              "    </tr>\n",
              "    <tr>\n",
              "      <th>5</th>\n",
              "      <td>0.351616</td>\n",
              "      <td>0.014677</td>\n",
              "      <td>17.268707</td>\n",
              "      <td>0.130214</td>\n",
              "      <td>5</td>\n",
              "      <td>2</td>\n",
              "      <td>{'classifier__n_neighbors': 5, 'classifier__p'...</td>\n",
              "      <td>0.966447</td>\n",
              "      <td>0.885185</td>\n",
              "      <td>0.934699</td>\n",
              "      <td>0.928777</td>\n",
              "      <td>0.033438</td>\n",
              "      <td>3</td>\n",
              "    </tr>\n",
              "    <tr>\n",
              "      <th>6</th>\n",
              "      <td>0.340314</td>\n",
              "      <td>0.000948</td>\n",
              "      <td>0.639630</td>\n",
              "      <td>0.048020</td>\n",
              "      <td>7</td>\n",
              "      <td>1</td>\n",
              "      <td>{'classifier__n_neighbors': 7, 'classifier__p'...</td>\n",
              "      <td>0.758617</td>\n",
              "      <td>0.050244</td>\n",
              "      <td>0.756535</td>\n",
              "      <td>0.521799</td>\n",
              "      <td>0.333440</td>\n",
              "      <td>7</td>\n",
              "    </tr>\n",
              "    <tr>\n",
              "      <th>7</th>\n",
              "      <td>0.438432</td>\n",
              "      <td>0.113249</td>\n",
              "      <td>18.741797</td>\n",
              "      <td>2.028463</td>\n",
              "      <td>7</td>\n",
              "      <td>2</td>\n",
              "      <td>{'classifier__n_neighbors': 7, 'classifier__p'...</td>\n",
              "      <td>0.964693</td>\n",
              "      <td>0.957831</td>\n",
              "      <td>0.972537</td>\n",
              "      <td>0.965020</td>\n",
              "      <td>0.006009</td>\n",
              "      <td>1</td>\n",
              "    </tr>\n",
              "  </tbody>\n",
              "</table>\n",
              "</div>\n",
              "    <div class=\"colab-df-buttons\">\n",
              "\n",
              "  <div class=\"colab-df-container\">\n",
              "    <button class=\"colab-df-convert\" onclick=\"convertToInteractive('df-022b1b57-90cc-4c60-9e57-acdd8e20c8b6')\"\n",
              "            title=\"Convert this dataframe to an interactive table.\"\n",
              "            style=\"display:none;\">\n",
              "\n",
              "  <svg xmlns=\"http://www.w3.org/2000/svg\" height=\"24px\" viewBox=\"0 -960 960 960\">\n",
              "    <path d=\"M120-120v-720h720v720H120Zm60-500h600v-160H180v160Zm220 220h160v-160H400v160Zm0 220h160v-160H400v160ZM180-400h160v-160H180v160Zm440 0h160v-160H620v160ZM180-180h160v-160H180v160Zm440 0h160v-160H620v160Z\"/>\n",
              "  </svg>\n",
              "    </button>\n",
              "\n",
              "  <style>\n",
              "    .colab-df-container {\n",
              "      display:flex;\n",
              "      gap: 12px;\n",
              "    }\n",
              "\n",
              "    .colab-df-convert {\n",
              "      background-color: #E8F0FE;\n",
              "      border: none;\n",
              "      border-radius: 50%;\n",
              "      cursor: pointer;\n",
              "      display: none;\n",
              "      fill: #1967D2;\n",
              "      height: 32px;\n",
              "      padding: 0 0 0 0;\n",
              "      width: 32px;\n",
              "    }\n",
              "\n",
              "    .colab-df-convert:hover {\n",
              "      background-color: #E2EBFA;\n",
              "      box-shadow: 0px 1px 2px rgba(60, 64, 67, 0.3), 0px 1px 3px 1px rgba(60, 64, 67, 0.15);\n",
              "      fill: #174EA6;\n",
              "    }\n",
              "\n",
              "    .colab-df-buttons div {\n",
              "      margin-bottom: 4px;\n",
              "    }\n",
              "\n",
              "    [theme=dark] .colab-df-convert {\n",
              "      background-color: #3B4455;\n",
              "      fill: #D2E3FC;\n",
              "    }\n",
              "\n",
              "    [theme=dark] .colab-df-convert:hover {\n",
              "      background-color: #434B5C;\n",
              "      box-shadow: 0px 1px 3px 1px rgba(0, 0, 0, 0.15);\n",
              "      filter: drop-shadow(0px 1px 2px rgba(0, 0, 0, 0.3));\n",
              "      fill: #FFFFFF;\n",
              "    }\n",
              "  </style>\n",
              "\n",
              "    <script>\n",
              "      const buttonEl =\n",
              "        document.querySelector('#df-022b1b57-90cc-4c60-9e57-acdd8e20c8b6 button.colab-df-convert');\n",
              "      buttonEl.style.display =\n",
              "        google.colab.kernel.accessAllowed ? 'block' : 'none';\n",
              "\n",
              "      async function convertToInteractive(key) {\n",
              "        const element = document.querySelector('#df-022b1b57-90cc-4c60-9e57-acdd8e20c8b6');\n",
              "        const dataTable =\n",
              "          await google.colab.kernel.invokeFunction('convertToInteractive',\n",
              "                                                    [key], {});\n",
              "        if (!dataTable) return;\n",
              "\n",
              "        const docLinkHtml = 'Like what you see? Visit the ' +\n",
              "          '<a target=\"_blank\" href=https://colab.research.google.com/notebooks/data_table.ipynb>data table notebook</a>'\n",
              "          + ' to learn more about interactive tables.';\n",
              "        element.innerHTML = '';\n",
              "        dataTable['output_type'] = 'display_data';\n",
              "        await google.colab.output.renderOutput(dataTable, element);\n",
              "        const docLink = document.createElement('div');\n",
              "        docLink.innerHTML = docLinkHtml;\n",
              "        element.appendChild(docLink);\n",
              "      }\n",
              "    </script>\n",
              "  </div>\n",
              "\n",
              "\n",
              "<div id=\"df-6d5fd9ad-ff75-4d1f-bc8a-0953785dfbfd\">\n",
              "  <button class=\"colab-df-quickchart\" onclick=\"quickchart('df-6d5fd9ad-ff75-4d1f-bc8a-0953785dfbfd')\"\n",
              "            title=\"Suggest charts\"\n",
              "            style=\"display:none;\">\n",
              "\n",
              "<svg xmlns=\"http://www.w3.org/2000/svg\" height=\"24px\"viewBox=\"0 0 24 24\"\n",
              "     width=\"24px\">\n",
              "    <g>\n",
              "        <path d=\"M19 3H5c-1.1 0-2 .9-2 2v14c0 1.1.9 2 2 2h14c1.1 0 2-.9 2-2V5c0-1.1-.9-2-2-2zM9 17H7v-7h2v7zm4 0h-2V7h2v10zm4 0h-2v-4h2v4z\"/>\n",
              "    </g>\n",
              "</svg>\n",
              "  </button>\n",
              "\n",
              "<style>\n",
              "  .colab-df-quickchart {\n",
              "      --bg-color: #E8F0FE;\n",
              "      --fill-color: #1967D2;\n",
              "      --hover-bg-color: #E2EBFA;\n",
              "      --hover-fill-color: #174EA6;\n",
              "      --disabled-fill-color: #AAA;\n",
              "      --disabled-bg-color: #DDD;\n",
              "  }\n",
              "\n",
              "  [theme=dark] .colab-df-quickchart {\n",
              "      --bg-color: #3B4455;\n",
              "      --fill-color: #D2E3FC;\n",
              "      --hover-bg-color: #434B5C;\n",
              "      --hover-fill-color: #FFFFFF;\n",
              "      --disabled-bg-color: #3B4455;\n",
              "      --disabled-fill-color: #666;\n",
              "  }\n",
              "\n",
              "  .colab-df-quickchart {\n",
              "    background-color: var(--bg-color);\n",
              "    border: none;\n",
              "    border-radius: 50%;\n",
              "    cursor: pointer;\n",
              "    display: none;\n",
              "    fill: var(--fill-color);\n",
              "    height: 32px;\n",
              "    padding: 0;\n",
              "    width: 32px;\n",
              "  }\n",
              "\n",
              "  .colab-df-quickchart:hover {\n",
              "    background-color: var(--hover-bg-color);\n",
              "    box-shadow: 0 1px 2px rgba(60, 64, 67, 0.3), 0 1px 3px 1px rgba(60, 64, 67, 0.15);\n",
              "    fill: var(--button-hover-fill-color);\n",
              "  }\n",
              "\n",
              "  .colab-df-quickchart-complete:disabled,\n",
              "  .colab-df-quickchart-complete:disabled:hover {\n",
              "    background-color: var(--disabled-bg-color);\n",
              "    fill: var(--disabled-fill-color);\n",
              "    box-shadow: none;\n",
              "  }\n",
              "\n",
              "  .colab-df-spinner {\n",
              "    border: 2px solid var(--fill-color);\n",
              "    border-color: transparent;\n",
              "    border-bottom-color: var(--fill-color);\n",
              "    animation:\n",
              "      spin 1s steps(1) infinite;\n",
              "  }\n",
              "\n",
              "  @keyframes spin {\n",
              "    0% {\n",
              "      border-color: transparent;\n",
              "      border-bottom-color: var(--fill-color);\n",
              "      border-left-color: var(--fill-color);\n",
              "    }\n",
              "    20% {\n",
              "      border-color: transparent;\n",
              "      border-left-color: var(--fill-color);\n",
              "      border-top-color: var(--fill-color);\n",
              "    }\n",
              "    30% {\n",
              "      border-color: transparent;\n",
              "      border-left-color: var(--fill-color);\n",
              "      border-top-color: var(--fill-color);\n",
              "      border-right-color: var(--fill-color);\n",
              "    }\n",
              "    40% {\n",
              "      border-color: transparent;\n",
              "      border-right-color: var(--fill-color);\n",
              "      border-top-color: var(--fill-color);\n",
              "    }\n",
              "    60% {\n",
              "      border-color: transparent;\n",
              "      border-right-color: var(--fill-color);\n",
              "    }\n",
              "    80% {\n",
              "      border-color: transparent;\n",
              "      border-right-color: var(--fill-color);\n",
              "      border-bottom-color: var(--fill-color);\n",
              "    }\n",
              "    90% {\n",
              "      border-color: transparent;\n",
              "      border-bottom-color: var(--fill-color);\n",
              "    }\n",
              "  }\n",
              "</style>\n",
              "\n",
              "  <script>\n",
              "    async function quickchart(key) {\n",
              "      const quickchartButtonEl =\n",
              "        document.querySelector('#' + key + ' button');\n",
              "      quickchartButtonEl.disabled = true;  // To prevent multiple clicks.\n",
              "      quickchartButtonEl.classList.add('colab-df-spinner');\n",
              "      try {\n",
              "        const charts = await google.colab.kernel.invokeFunction(\n",
              "            'suggestCharts', [key], {});\n",
              "      } catch (error) {\n",
              "        console.error('Error during call to suggestCharts:', error);\n",
              "      }\n",
              "      quickchartButtonEl.classList.remove('colab-df-spinner');\n",
              "      quickchartButtonEl.classList.add('colab-df-quickchart-complete');\n",
              "    }\n",
              "    (() => {\n",
              "      let quickchartButtonEl =\n",
              "        document.querySelector('#df-6d5fd9ad-ff75-4d1f-bc8a-0953785dfbfd button');\n",
              "      quickchartButtonEl.style.display =\n",
              "        google.colab.kernel.accessAllowed ? 'block' : 'none';\n",
              "    })();\n",
              "  </script>\n",
              "</div>\n",
              "    </div>\n",
              "  </div>\n"
            ],
            "application/vnd.google.colaboratory.intrinsic+json": {
              "type": "dataframe",
              "variable_name": "df",
              "summary": "{\n  \"name\": \"df\",\n  \"rows\": 8,\n  \"fields\": [\n    {\n      \"column\": \"mean_fit_time\",\n      \"properties\": {\n        \"dtype\": \"number\",\n        \"std\": 0.10103791903048533,\n        \"min\": 0.3363807996114095,\n        \"max\": 0.6253164609273275,\n        \"num_unique_values\": 8,\n        \"samples\": [\n          0.4396518071492513,\n          0.35161582628885907,\n          0.3363807996114095\n        ],\n        \"semantic_type\": \"\",\n        \"description\": \"\"\n      }\n    },\n    {\n      \"column\": \"std_fit_time\",\n      \"properties\": {\n        \"dtype\": \"number\",\n        \"std\": 0.05362232660810827,\n        \"min\": 0.0009482411018225825,\n        \"max\": 0.12683383889706915,\n        \"num_unique_values\": 8,\n        \"samples\": [\n          0.12683383889706915,\n          0.014676577231691142,\n          0.00219656821528824\n        ],\n        \"semantic_type\": \"\",\n        \"description\": \"\"\n      }\n    },\n    {\n      \"column\": \"mean_score_time\",\n      \"properties\": {\n        \"dtype\": \"number\",\n        \"std\": 9.181694729955863,\n        \"min\": 0.6096659501393636,\n        \"max\": 18.741796573003132,\n        \"num_unique_values\": 8,\n        \"samples\": [\n          17.990383466084797,\n          17.268707354863484,\n          0.6096659501393636\n        ],\n        \"semantic_type\": \"\",\n        \"description\": \"\"\n      }\n    },\n    {\n      \"column\": \"std_score_time\",\n      \"properties\": {\n        \"dtype\": \"number\",\n        \"std\": 0.6896315533699171,\n        \"min\": 0.0020039512436880683,\n        \"max\": 2.028463253757653,\n        \"num_unique_values\": 8,\n        \"samples\": [\n          0.623984886341189,\n          0.1302139250625487,\n          0.0020039512436880683\n        ],\n        \"semantic_type\": \"\",\n        \"description\": \"\"\n      }\n    },\n    {\n      \"column\": \"param_classifier__n_neighbors\",\n      \"properties\": {\n        \"dtype\": \"date\",\n        \"min\": 1,\n        \"max\": 7,\n        \"num_unique_values\": 4,\n        \"samples\": [\n          3,\n          7,\n          1\n        ],\n        \"semantic_type\": \"\",\n        \"description\": \"\"\n      }\n    },\n    {\n      \"column\": \"param_classifier__p\",\n      \"properties\": {\n        \"dtype\": \"date\",\n        \"min\": 1,\n        \"max\": 2,\n        \"num_unique_values\": 2,\n        \"samples\": [\n          2,\n          1\n        ],\n        \"semantic_type\": \"\",\n        \"description\": \"\"\n      }\n    },\n    {\n      \"column\": \"params\",\n      \"properties\": {\n        \"dtype\": \"object\",\n        \"semantic_type\": \"\",\n        \"description\": \"\"\n      }\n    },\n    {\n      \"column\": \"split0_test_score\",\n      \"properties\": {\n        \"dtype\": \"number\",\n        \"std\": 0.10689976520671061,\n        \"min\": 0.7586166457248849,\n        \"max\": 0.9664467364456222,\n        \"num_unique_values\": 5,\n        \"samples\": [\n          0.9432773392700532,\n          0.9646929563957427\n        ],\n        \"semantic_type\": \"\",\n        \"description\": \"\"\n      }\n    },\n    {\n      \"column\": \"split1_test_score\",\n      \"properties\": {\n        \"dtype\": \"number\",\n        \"std\": 0.4337110231257399,\n        \"min\": 0.04722669302084804,\n        \"max\": 0.9578306282620757,\n        \"num_unique_values\": 8,\n        \"samples\": [\n          0.927552419383843,\n          0.885184865431779\n        ],\n        \"semantic_type\": \"\",\n        \"description\": \"\"\n      }\n    },\n    {\n      \"column\": \"split2_test_score\",\n      \"properties\": {\n        \"dtype\": \"number\",\n        \"std\": 0.09995633630774307,\n        \"min\": 0.7565352256055571,\n        \"max\": 0.9725374698788001,\n        \"num_unique_values\": 5,\n        \"samples\": [\n          0.9451677344676298,\n          0.9725374698788001\n        ],\n        \"semantic_type\": \"\",\n        \"description\": \"\"\n      }\n    },\n    {\n      \"column\": \"mean_test_score\",\n      \"properties\": {\n        \"dtype\": \"number\",\n        \"std\": 0.20591242804629228,\n        \"min\": 0.5207928547837634,\n        \"max\": 0.9650203515122061,\n        \"num_unique_values\": 8,\n        \"samples\": [\n          0.9386658310405087,\n          0.9287770227884747\n        ],\n        \"semantic_type\": \"\",\n        \"description\": \"\"\n      }\n    },\n    {\n      \"column\": \"std_test_score\",\n      \"properties\": {\n        \"dtype\": \"number\",\n        \"std\": 0.16389944384632518,\n        \"min\": 0.0016773074867193307,\n        \"max\": 0.3348629224549184,\n        \"num_unique_values\": 8,\n        \"samples\": [\n          0.007896173650937484,\n          0.033438295657308464\n        ],\n        \"semantic_type\": \"\",\n        \"description\": \"\"\n      }\n    },\n    {\n      \"column\": \"rank_test_score\",\n      \"properties\": {\n        \"dtype\": \"int32\",\n        \"num_unique_values\": 8,\n        \"samples\": [\n          2,\n          3\n        ],\n        \"semantic_type\": \"\",\n        \"description\": \"\"\n      }\n    }\n  ]\n}"
            }
          },
          "metadata": {},
          "execution_count": 148
        }
      ],
      "source": [
        "pipe = Pipeline(steps=[(\"vectorizer\", vectorizer), (\"classifier\", KNeighborsClassifier())])\n",
        "\n",
        "param_grid = {'classifier__n_neighbors':[1, 3, 5, 7], 'classifier__p':[1, 2]}\n",
        "\n",
        "best_knn = GridSearchCV(pipe, param_grid, scoring=('f1_weighted'), cv=3)\n",
        "\n",
        "model_knn = best_knn.fit(X_train, y_train)\n",
        "\n",
        "df = pd.DataFrame(best_knn.cv_results_)\n",
        "\n",
        "df"
      ]
    },
    {
      "cell_type": "code",
      "execution_count": null,
      "metadata": {
        "id": "4S-K7GwFgQE7",
        "colab": {
          "base_uri": "https://localhost:8080/"
        },
        "outputId": "bdce3aef-0d82-4cc0-9c1a-6affaca47c05"
      },
      "outputs": [
        {
          "output_type": "execute_result",
          "data": {
            "text/plain": [
              "{'classifier__n_neighbors': 7, 'classifier__p': 2}"
            ]
          },
          "metadata": {},
          "execution_count": 149
        }
      ],
      "source": [
        "best_knn.best_params_"
      ]
    },
    {
      "cell_type": "code",
      "execution_count": null,
      "metadata": {
        "id": "9x6FbNWCgS_y",
        "colab": {
          "base_uri": "https://localhost:8080/"
        },
        "outputId": "f2ada6d0-e4d6-4de0-d04c-234212bf8f52"
      },
      "outputs": [
        {
          "output_type": "execute_result",
          "data": {
            "text/plain": [
              "array([[673,  51],\n",
              "       [  2, 142]])"
            ]
          },
          "metadata": {},
          "execution_count": 150
        }
      ],
      "source": [
        "y_pred = model_knn.predict(X_test)\n",
        "\n",
        "matrix = confusion_matrix(y_test, y_pred)\n",
        "\n",
        "matrix"
      ]
    },
    {
      "cell_type": "code",
      "execution_count": null,
      "metadata": {
        "id": "Mr21mjOFgU1D",
        "colab": {
          "base_uri": "https://localhost:8080/",
          "height": 466
        },
        "outputId": "6d53079d-ee5b-408e-fe22-93df808bd14c"
      },
      "outputs": [
        {
          "output_type": "execute_result",
          "data": {
            "text/plain": [
              "Text(50.722222222222214, 0.5, 'Truth')"
            ]
          },
          "metadata": {},
          "execution_count": 151
        },
        {
          "output_type": "display_data",
          "data": {
            "text/plain": [
              "<Figure size 640x480 with 2 Axes>"
            ],
            "image/png": "[encoded data removed]"
          },
          "metadata": {}
        }
      ],
      "source": [
        "# Criando um heatmap para melhor visualização\n",
        "\n",
        "plt.figure()\n",
        "sns.heatmap(matrix, annot=True, fmt='g')\n",
        "plt.xlabel(\"Predict\")\n",
        "plt.ylabel(\"Truth\")"
      ]
    },
    {
      "cell_type": "code",
      "execution_count": null,
      "metadata": {
        "id": "mTnS-cs7gX3B",
        "colab": {
          "base_uri": "https://localhost:8080/"
        },
        "outputId": "68e9c8d6-5828-4bd4-c2ea-33057e4b999c"
      },
      "outputs": [
        {
          "output_type": "stream",
          "name": "stdout",
          "text": [
            "Accuracy:  0.9389400921658986\n",
            "Precision:  0.9421326058790415\n",
            "Recall:  0.9389400921658986\n",
            "F1 Score:  0.9355703309292046\n"
          ]
        }
      ],
      "source": [
        "print(\"Accuracy: \", accuracy_score(y_pred,y_test))\n",
        "print(\"Precision: \", precision_score(y_pred,y_test, average = 'weighted'))\n",
        "print(\"Recall: \", recall_score(y_pred,y_test, average = 'weighted'))\n",
        "print(\"F1 Score: \", f1_score(y_pred,y_test, average = 'weighted'))"
      ]
    }
  ],
  "metadata": {
    "colab": {
      "provenance": [],
      "include_colab_link": true
    },
    "kernelspec": {
      "display_name": "Python 3",
      "name": "python3"
    },
    "language_info": {
      "name": "python"
    }
  },
  "nbformat": 4,
  "nbformat_minor": 0
}